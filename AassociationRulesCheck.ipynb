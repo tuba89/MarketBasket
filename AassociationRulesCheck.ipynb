{
  "nbformat": 4,
  "nbformat_minor": 0,
  "metadata": {
    "colab": {
      "name": "AassociationRulesCheck.ipynb",
      "provenance": [],
      "collapsed_sections": [],
      "mount_file_id": "1_hW9jZMoxgG5WOYqXeNZ6JWYNDzogOGf",
      "authorship_tag": "ABX9TyP0bvV8q1x23FmDJ4CgWE0q",
      "include_colab_link": true
    },
    "kernelspec": {
      "name": "python3",
      "display_name": "Python 3"
    },
    "language_info": {
      "name": "python"
    }
  },
  "cells": [
    {
      "cell_type": "markdown",
      "metadata": {
        "id": "view-in-github",
        "colab_type": "text"
      },
      "source": [
        "<a href=\"https://colab.research.google.com/github/tuba89/MarketBasket/blob/main/AassociationRulesCheck.ipynb\" target=\"_parent\"><img src=\"https://colab.research.google.com/assets/colab-badge.svg\" alt=\"Open In Colab\"/></a>"
      ]
    },
    {
      "cell_type": "code",
      "metadata": {
        "id": "pNOw_HclfrK1"
      },
      "source": [
        "import numpy as np \n",
        "import pandas as pd \n",
        "\n",
        "import matplotlib.pyplot as plt\n",
        "import seaborn as sns\n",
        "from mlxtend.preprocessing import TransactionEncoder\n",
        "from mlxtend.frequent_patterns import apriori, association_rules\n",
        "\n",
        "plt.rcParams['figure.figsize'] = (11, 4)"
      ],
      "execution_count": 23,
      "outputs": []
    },
    {
      "cell_type": "markdown",
      "metadata": {
        "id": "WVbrP4BHf5VN"
      },
      "source": [
        "#Part I: small dataset"
      ]
    },
    {
      "cell_type": "code",
      "metadata": {
        "id": "9OQ5dV37f3Oy"
      },
      "source": [
        "dataset = [['Skirt', 'Sneakers', 'Scarf', 'Pants', 'Hat'],\n",
        "        ['Sunglasses', 'Skirt', 'Sneakers', 'Pants', 'Hat'],\n",
        "        ['Dress', 'Sandals', 'Scarf', 'Pants', 'Heels'],\n",
        "        ['Dress', 'Necklace', 'Earrings', 'Scarf', 'Hat', 'Heels', 'Hat'],\n",
        "      ['Earrings', 'Skirt', 'Skirt', 'Scarf', 'Shirt', 'Pants']]"
      ],
      "execution_count": null,
      "outputs": []
    },
    {
      "cell_type": "code",
      "metadata": {
        "colab": {
          "base_uri": "https://localhost:8080/",
          "height": 202
        },
        "id": "pZuTYSzJgJtK",
        "outputId": "5c82f628-318c-4314-9535-d85b5b1aea35"
      },
      "source": [
        "te=TransactionEncoder()\n",
        "te_ary=te.fit(dataset).transform(dataset)    #Apply one-hot-encoding on our dataset\n",
        "df = pd.DataFrame(te_ary, columns=te.columns_)  #Creating a new DataFrame from our Numpy array\n",
        "df"
      ],
      "execution_count": null,
      "outputs": [
        {
          "output_type": "execute_result",
          "data": {
            "text/html": [
              "<div>\n",
              "<style scoped>\n",
              "    .dataframe tbody tr th:only-of-type {\n",
              "        vertical-align: middle;\n",
              "    }\n",
              "\n",
              "    .dataframe tbody tr th {\n",
              "        vertical-align: top;\n",
              "    }\n",
              "\n",
              "    .dataframe thead th {\n",
              "        text-align: right;\n",
              "    }\n",
              "</style>\n",
              "<table border=\"1\" class=\"dataframe\">\n",
              "  <thead>\n",
              "    <tr style=\"text-align: right;\">\n",
              "      <th></th>\n",
              "      <th>Dress</th>\n",
              "      <th>Earrings</th>\n",
              "      <th>Hat</th>\n",
              "      <th>Heels</th>\n",
              "      <th>Necklace</th>\n",
              "      <th>Pants</th>\n",
              "      <th>Sandals</th>\n",
              "      <th>Scarf</th>\n",
              "      <th>Shirt</th>\n",
              "      <th>Skirt</th>\n",
              "      <th>Sneakers</th>\n",
              "      <th>Sunglasses</th>\n",
              "    </tr>\n",
              "  </thead>\n",
              "  <tbody>\n",
              "    <tr>\n",
              "      <th>0</th>\n",
              "      <td>False</td>\n",
              "      <td>False</td>\n",
              "      <td>True</td>\n",
              "      <td>False</td>\n",
              "      <td>False</td>\n",
              "      <td>True</td>\n",
              "      <td>False</td>\n",
              "      <td>True</td>\n",
              "      <td>False</td>\n",
              "      <td>True</td>\n",
              "      <td>True</td>\n",
              "      <td>False</td>\n",
              "    </tr>\n",
              "    <tr>\n",
              "      <th>1</th>\n",
              "      <td>False</td>\n",
              "      <td>False</td>\n",
              "      <td>True</td>\n",
              "      <td>False</td>\n",
              "      <td>False</td>\n",
              "      <td>True</td>\n",
              "      <td>False</td>\n",
              "      <td>False</td>\n",
              "      <td>False</td>\n",
              "      <td>True</td>\n",
              "      <td>True</td>\n",
              "      <td>True</td>\n",
              "    </tr>\n",
              "    <tr>\n",
              "      <th>2</th>\n",
              "      <td>True</td>\n",
              "      <td>False</td>\n",
              "      <td>False</td>\n",
              "      <td>True</td>\n",
              "      <td>False</td>\n",
              "      <td>True</td>\n",
              "      <td>True</td>\n",
              "      <td>True</td>\n",
              "      <td>False</td>\n",
              "      <td>False</td>\n",
              "      <td>False</td>\n",
              "      <td>False</td>\n",
              "    </tr>\n",
              "    <tr>\n",
              "      <th>3</th>\n",
              "      <td>True</td>\n",
              "      <td>True</td>\n",
              "      <td>True</td>\n",
              "      <td>True</td>\n",
              "      <td>True</td>\n",
              "      <td>False</td>\n",
              "      <td>False</td>\n",
              "      <td>True</td>\n",
              "      <td>False</td>\n",
              "      <td>False</td>\n",
              "      <td>False</td>\n",
              "      <td>False</td>\n",
              "    </tr>\n",
              "    <tr>\n",
              "      <th>4</th>\n",
              "      <td>False</td>\n",
              "      <td>True</td>\n",
              "      <td>False</td>\n",
              "      <td>False</td>\n",
              "      <td>False</td>\n",
              "      <td>True</td>\n",
              "      <td>False</td>\n",
              "      <td>True</td>\n",
              "      <td>True</td>\n",
              "      <td>True</td>\n",
              "      <td>False</td>\n",
              "      <td>False</td>\n",
              "    </tr>\n",
              "  </tbody>\n",
              "</table>\n",
              "</div>"
            ],
            "text/plain": [
              "   Dress  Earrings    Hat  Heels  ...  Shirt  Skirt  Sneakers  Sunglasses\n",
              "0  False     False   True  False  ...  False   True      True       False\n",
              "1  False     False   True  False  ...  False   True      True        True\n",
              "2   True     False  False   True  ...  False  False     False       False\n",
              "3   True      True   True   True  ...  False  False     False       False\n",
              "4  False      True  False  False  ...   True   True     False       False\n",
              "\n",
              "[5 rows x 12 columns]"
            ]
          },
          "metadata": {
            "tags": []
          },
          "execution_count": 4
        }
      ]
    },
    {
      "cell_type": "code",
      "metadata": {
        "colab": {
          "base_uri": "https://localhost:8080/"
        },
        "id": "aEXlDZUpgOQ5",
        "outputId": "cec454c0-08f0-4473-c47a-bb1be77254e9"
      },
      "source": [
        "te_ary.astype(\"int\")"
      ],
      "execution_count": null,
      "outputs": [
        {
          "output_type": "execute_result",
          "data": {
            "text/plain": [
              "array([[0, 0, 1, 0, 0, 1, 0, 1, 0, 1, 1, 0],\n",
              "       [0, 0, 1, 0, 0, 1, 0, 0, 0, 1, 1, 1],\n",
              "       [1, 0, 0, 1, 0, 1, 1, 1, 0, 0, 0, 0],\n",
              "       [1, 1, 1, 1, 1, 0, 0, 1, 0, 0, 0, 0],\n",
              "       [0, 1, 0, 0, 0, 1, 0, 1, 1, 1, 0, 0]])"
            ]
          },
          "metadata": {
            "tags": []
          },
          "execution_count": 5
        }
      ]
    },
    {
      "cell_type": "code",
      "metadata": {
        "colab": {
          "base_uri": "https://localhost:8080/"
        },
        "id": "Si_Ef_39gPUR",
        "outputId": "6d3ab447-9d53-42e9-caa5-0ac4fa2ef19c"
      },
      "source": [
        "te.columns_"
      ],
      "execution_count": null,
      "outputs": [
        {
          "output_type": "execute_result",
          "data": {
            "text/plain": [
              "['Dress',\n",
              " 'Earrings',\n",
              " 'Hat',\n",
              " 'Heels',\n",
              " 'Necklace',\n",
              " 'Pants',\n",
              " 'Sandals',\n",
              " 'Scarf',\n",
              " 'Shirt',\n",
              " 'Skirt',\n",
              " 'Sneakers',\n",
              " 'Sunglasses']"
            ]
          },
          "metadata": {
            "tags": []
          },
          "execution_count": 6
        }
      ]
    },
    {
      "cell_type": "code",
      "metadata": {
        "id": "HITyHufVgR4C"
      },
      "source": [
        "df_int = df.astype(int)"
      ],
      "execution_count": null,
      "outputs": []
    },
    {
      "cell_type": "code",
      "metadata": {
        "colab": {
          "base_uri": "https://localhost:8080/"
        },
        "id": "8f-Ao2bMgcET",
        "outputId": "faf19f53-9ea3-4bd6-9897-2171614d0440"
      },
      "source": [
        "df.sum()"
      ],
      "execution_count": null,
      "outputs": [
        {
          "output_type": "execute_result",
          "data": {
            "text/plain": [
              "Dress         2\n",
              "Earrings      2\n",
              "Hat           3\n",
              "Heels         2\n",
              "Necklace      1\n",
              "Pants         4\n",
              "Sandals       1\n",
              "Scarf         4\n",
              "Shirt         1\n",
              "Skirt         3\n",
              "Sneakers      2\n",
              "Sunglasses    1\n",
              "dtype: int64"
            ]
          },
          "metadata": {
            "tags": []
          },
          "execution_count": 8
        }
      ]
    },
    {
      "cell_type": "code",
      "metadata": {
        "colab": {
          "base_uri": "https://localhost:8080/"
        },
        "id": "fbXwUD1tgdJQ",
        "outputId": "cdd9da42-560a-44fc-9862-9130c90c68a8"
      },
      "source": [
        "df_int.sum()"
      ],
      "execution_count": null,
      "outputs": [
        {
          "output_type": "execute_result",
          "data": {
            "text/plain": [
              "Dress         2\n",
              "Earrings      2\n",
              "Hat           3\n",
              "Heels         2\n",
              "Necklace      1\n",
              "Pants         4\n",
              "Sandals       1\n",
              "Scarf         4\n",
              "Shirt         1\n",
              "Skirt         3\n",
              "Sneakers      2\n",
              "Sunglasses    1\n",
              "dtype: int64"
            ]
          },
          "metadata": {
            "tags": []
          },
          "execution_count": 9
        }
      ]
    },
    {
      "cell_type": "code",
      "metadata": {
        "colab": {
          "base_uri": "https://localhost:8080/",
          "height": 297
        },
        "id": "2RRvNsIEgfJD",
        "outputId": "3dd410cb-ec01-43dc-dc75-4875557b73c3"
      },
      "source": [
        "sns.countplot(x='Hat', data=df_int)"
      ],
      "execution_count": null,
      "outputs": [
        {
          "output_type": "execute_result",
          "data": {
            "text/plain": [
              "<matplotlib.axes._subplots.AxesSubplot at 0x7f483323dc90>"
            ]
          },
          "metadata": {
            "tags": []
          },
          "execution_count": 10
        },
        {
          "output_type": "display_data",
          "data": {
            "image/png": "[encoded data removed]",
            "text/plain": [
              "<Figure size 432x288 with 1 Axes>"
            ]
          },
          "metadata": {
            "tags": [],
            "needs_background": "light"
          }
        }
      ]
    },
    {
      "cell_type": "code",
      "metadata": {
        "colab": {
          "base_uri": "https://localhost:8080/",
          "height": 297
        },
        "id": "rftmOkvtgp09",
        "outputId": "3d401c2b-33aa-485f-bece-c4cdbb8c68c7"
      },
      "source": [
        "sns.countplot(x='Earrings', data=df_int)"
      ],
      "execution_count": null,
      "outputs": [
        {
          "output_type": "execute_result",
          "data": {
            "text/plain": [
              "<matplotlib.axes._subplots.AxesSubplot at 0x7f4833148f50>"
            ]
          },
          "metadata": {
            "tags": []
          },
          "execution_count": 11
        },
        {
          "output_type": "display_data",
          "data": {
            "image/png": "[encoded data removed]",
            "text/plain": [
              "<Figure size 432x288 with 1 Axes>"
            ]
          },
          "metadata": {
            "tags": [],
            "needs_background": "light"
          }
        }
      ]
    },
    {
      "cell_type": "code",
      "metadata": {
        "colab": {
          "base_uri": "https://localhost:8080/",
          "height": 833
        },
        "id": "y-vHMdaDgtm0",
        "outputId": "a0d2c663-4352-419e-9254-2e840245fad9"
      },
      "source": [
        "df_int.hist(figsize=(20,10))"
      ],
      "execution_count": null,
      "outputs": [
        {
          "output_type": "execute_result",
          "data": {
            "text/plain": [
              "array([[<matplotlib.axes._subplots.AxesSubplot object at 0x7f4832c514d0>,\n",
              "        <matplotlib.axes._subplots.AxesSubplot object at 0x7f4832bfeb10>,\n",
              "        <matplotlib.axes._subplots.AxesSubplot object at 0x7f4832bc21d0>],\n",
              "       [<matplotlib.axes._subplots.AxesSubplot object at 0x7f4832b75850>,\n",
              "        <matplotlib.axes._subplots.AxesSubplot object at 0x7f4832b2ced0>,\n",
              "        <matplotlib.axes._subplots.AxesSubplot object at 0x7f48333f6110>],\n",
              "       [<matplotlib.axes._subplots.AxesSubplot object at 0x7f4832aedf10>,\n",
              "        <matplotlib.axes._subplots.AxesSubplot object at 0x7f4832ad4510>,\n",
              "        <matplotlib.axes._subplots.AxesSubplot object at 0x7f4832ad4550>],\n",
              "       [<matplotlib.axes._subplots.AxesSubplot object at 0x7f4832a8ccd0>,\n",
              "        <matplotlib.axes._subplots.AxesSubplot object at 0x7f4832a03910>,\n",
              "        <matplotlib.axes._subplots.AxesSubplot object at 0x7f48329bbf90>]],\n",
              "      dtype=object)"
            ]
          },
          "metadata": {
            "tags": []
          },
          "execution_count": 12
        },
        {
          "output_type": "display_data",
          "data": {
            "image/png": "[encoded data removed]",
            "text/plain": [
              "<Figure size 1440x720 with 12 Axes>"
            ]
          },
          "metadata": {
            "tags": [],
            "needs_background": "light"
          }
        }
      ]
    },
    {
      "cell_type": "code",
      "metadata": {
        "colab": {
          "base_uri": "https://localhost:8080/"
        },
        "id": "qalZWnengxFu",
        "outputId": "7d786540-6ad9-4f96-c86f-d6ed9240abf9"
      },
      "source": [
        "df_int.value_counts()"
      ],
      "execution_count": null,
      "outputs": [
        {
          "output_type": "execute_result",
          "data": {
            "text/plain": [
              "Dress  Earrings  Hat  Heels  Necklace  Pants  Sandals  Scarf  Shirt  Skirt  Sneakers  Sunglasses\n",
              "1      1         1    1      1         0      0        1      0      0      0         0             1\n",
              "       0         0    1      0         1      1        1      0      0      0         0             1\n",
              "0      1         0    0      0         1      0        1      1      1      0         0             1\n",
              "       0         1    0      0         1      0        1      0      1      1         0             1\n",
              "                                                       0      0      1      1         1             1\n",
              "dtype: int64"
            ]
          },
          "metadata": {
            "tags": []
          },
          "execution_count": 13
        }
      ]
    },
    {
      "cell_type": "code",
      "metadata": {
        "colab": {
          "base_uri": "https://localhost:8080/",
          "height": 417
        },
        "id": "WlcnraRWgz9J",
        "outputId": "ce80968e-558a-46b7-fc29-53b96fc76e20"
      },
      "source": [
        "# Product Frequency / Total Sales\n",
        "first = pd.DataFrame(df.sum() / df.shape[0], columns = [\"Support\"]).sort_values(\"Support\", ascending = False)\n",
        "first"
      ],
      "execution_count": null,
      "outputs": [
        {
          "output_type": "execute_result",
          "data": {
            "text/html": [
              "<div>\n",
              "<style scoped>\n",
              "    .dataframe tbody tr th:only-of-type {\n",
              "        vertical-align: middle;\n",
              "    }\n",
              "\n",
              "    .dataframe tbody tr th {\n",
              "        vertical-align: top;\n",
              "    }\n",
              "\n",
              "    .dataframe thead th {\n",
              "        text-align: right;\n",
              "    }\n",
              "</style>\n",
              "<table border=\"1\" class=\"dataframe\">\n",
              "  <thead>\n",
              "    <tr style=\"text-align: right;\">\n",
              "      <th></th>\n",
              "      <th>Support</th>\n",
              "    </tr>\n",
              "  </thead>\n",
              "  <tbody>\n",
              "    <tr>\n",
              "      <th>Pants</th>\n",
              "      <td>0.8</td>\n",
              "    </tr>\n",
              "    <tr>\n",
              "      <th>Scarf</th>\n",
              "      <td>0.8</td>\n",
              "    </tr>\n",
              "    <tr>\n",
              "      <th>Hat</th>\n",
              "      <td>0.6</td>\n",
              "    </tr>\n",
              "    <tr>\n",
              "      <th>Skirt</th>\n",
              "      <td>0.6</td>\n",
              "    </tr>\n",
              "    <tr>\n",
              "      <th>Dress</th>\n",
              "      <td>0.4</td>\n",
              "    </tr>\n",
              "    <tr>\n",
              "      <th>Earrings</th>\n",
              "      <td>0.4</td>\n",
              "    </tr>\n",
              "    <tr>\n",
              "      <th>Heels</th>\n",
              "      <td>0.4</td>\n",
              "    </tr>\n",
              "    <tr>\n",
              "      <th>Sneakers</th>\n",
              "      <td>0.4</td>\n",
              "    </tr>\n",
              "    <tr>\n",
              "      <th>Necklace</th>\n",
              "      <td>0.2</td>\n",
              "    </tr>\n",
              "    <tr>\n",
              "      <th>Sandals</th>\n",
              "      <td>0.2</td>\n",
              "    </tr>\n",
              "    <tr>\n",
              "      <th>Shirt</th>\n",
              "      <td>0.2</td>\n",
              "    </tr>\n",
              "    <tr>\n",
              "      <th>Sunglasses</th>\n",
              "      <td>0.2</td>\n",
              "    </tr>\n",
              "  </tbody>\n",
              "</table>\n",
              "</div>"
            ],
            "text/plain": [
              "            Support\n",
              "Pants           0.8\n",
              "Scarf           0.8\n",
              "Hat             0.6\n",
              "Skirt           0.6\n",
              "Dress           0.4\n",
              "Earrings        0.4\n",
              "Heels           0.4\n",
              "Sneakers        0.4\n",
              "Necklace        0.2\n",
              "Sandals         0.2\n",
              "Shirt           0.2\n",
              "Sunglasses      0.2"
            ]
          },
          "metadata": {
            "tags": []
          },
          "execution_count": 14
        }
      ]
    },
    {
      "cell_type": "code",
      "metadata": {
        "colab": {
          "base_uri": "https://localhost:8080/",
          "height": 233
        },
        "id": "AxiSoC6yg3OB",
        "outputId": "c450813e-41fc-4282-f7dd-70c7f78f7de0"
      },
      "source": [
        "# Apriori\n",
        "freq_items = apriori(df, min_support = 0.5, use_colnames = True)\n",
        "freq_items.sort_values(\"support\", ascending = False)"
      ],
      "execution_count": null,
      "outputs": [
        {
          "output_type": "execute_result",
          "data": {
            "text/html": [
              "<div>\n",
              "<style scoped>\n",
              "    .dataframe tbody tr th:only-of-type {\n",
              "        vertical-align: middle;\n",
              "    }\n",
              "\n",
              "    .dataframe tbody tr th {\n",
              "        vertical-align: top;\n",
              "    }\n",
              "\n",
              "    .dataframe thead th {\n",
              "        text-align: right;\n",
              "    }\n",
              "</style>\n",
              "<table border=\"1\" class=\"dataframe\">\n",
              "  <thead>\n",
              "    <tr style=\"text-align: right;\">\n",
              "      <th></th>\n",
              "      <th>support</th>\n",
              "      <th>itemsets</th>\n",
              "    </tr>\n",
              "  </thead>\n",
              "  <tbody>\n",
              "    <tr>\n",
              "      <th>1</th>\n",
              "      <td>0.8</td>\n",
              "      <td>(Pants)</td>\n",
              "    </tr>\n",
              "    <tr>\n",
              "      <th>2</th>\n",
              "      <td>0.8</td>\n",
              "      <td>(Scarf)</td>\n",
              "    </tr>\n",
              "    <tr>\n",
              "      <th>0</th>\n",
              "      <td>0.6</td>\n",
              "      <td>(Hat)</td>\n",
              "    </tr>\n",
              "    <tr>\n",
              "      <th>3</th>\n",
              "      <td>0.6</td>\n",
              "      <td>(Skirt)</td>\n",
              "    </tr>\n",
              "    <tr>\n",
              "      <th>4</th>\n",
              "      <td>0.6</td>\n",
              "      <td>(Pants, Scarf)</td>\n",
              "    </tr>\n",
              "    <tr>\n",
              "      <th>5</th>\n",
              "      <td>0.6</td>\n",
              "      <td>(Skirt, Pants)</td>\n",
              "    </tr>\n",
              "  </tbody>\n",
              "</table>\n",
              "</div>"
            ],
            "text/plain": [
              "   support        itemsets\n",
              "1      0.8         (Pants)\n",
              "2      0.8         (Scarf)\n",
              "0      0.6           (Hat)\n",
              "3      0.6         (Skirt)\n",
              "4      0.6  (Pants, Scarf)\n",
              "5      0.6  (Skirt, Pants)"
            ]
          },
          "metadata": {
            "tags": []
          },
          "execution_count": 15
        }
      ]
    },
    {
      "cell_type": "code",
      "metadata": {
        "colab": {
          "base_uri": "https://localhost:8080/",
          "height": 171
        },
        "id": "bUcBtw6Zg8f6",
        "outputId": "55bb9f22-52f9-4e01-ec36-dc25b42a3011"
      },
      "source": [
        "# Association Rules & Info\n",
        "df_conf = association_rules(freq_items, metric = \"confidence\", min_threshold = 0.5)\n",
        "df_conf"
      ],
      "execution_count": null,
      "outputs": [
        {
          "output_type": "execute_result",
          "data": {
            "text/html": [
              "<div>\n",
              "<style scoped>\n",
              "    .dataframe tbody tr th:only-of-type {\n",
              "        vertical-align: middle;\n",
              "    }\n",
              "\n",
              "    .dataframe tbody tr th {\n",
              "        vertical-align: top;\n",
              "    }\n",
              "\n",
              "    .dataframe thead th {\n",
              "        text-align: right;\n",
              "    }\n",
              "</style>\n",
              "<table border=\"1\" class=\"dataframe\">\n",
              "  <thead>\n",
              "    <tr style=\"text-align: right;\">\n",
              "      <th></th>\n",
              "      <th>antecedents</th>\n",
              "      <th>consequents</th>\n",
              "      <th>antecedent support</th>\n",
              "      <th>consequent support</th>\n",
              "      <th>support</th>\n",
              "      <th>confidence</th>\n",
              "      <th>lift</th>\n",
              "      <th>leverage</th>\n",
              "      <th>conviction</th>\n",
              "    </tr>\n",
              "  </thead>\n",
              "  <tbody>\n",
              "    <tr>\n",
              "      <th>0</th>\n",
              "      <td>(Pants)</td>\n",
              "      <td>(Scarf)</td>\n",
              "      <td>0.8</td>\n",
              "      <td>0.8</td>\n",
              "      <td>0.6</td>\n",
              "      <td>0.75</td>\n",
              "      <td>0.9375</td>\n",
              "      <td>-0.04</td>\n",
              "      <td>0.8</td>\n",
              "    </tr>\n",
              "    <tr>\n",
              "      <th>1</th>\n",
              "      <td>(Scarf)</td>\n",
              "      <td>(Pants)</td>\n",
              "      <td>0.8</td>\n",
              "      <td>0.8</td>\n",
              "      <td>0.6</td>\n",
              "      <td>0.75</td>\n",
              "      <td>0.9375</td>\n",
              "      <td>-0.04</td>\n",
              "      <td>0.8</td>\n",
              "    </tr>\n",
              "    <tr>\n",
              "      <th>2</th>\n",
              "      <td>(Skirt)</td>\n",
              "      <td>(Pants)</td>\n",
              "      <td>0.6</td>\n",
              "      <td>0.8</td>\n",
              "      <td>0.6</td>\n",
              "      <td>1.00</td>\n",
              "      <td>1.2500</td>\n",
              "      <td>0.12</td>\n",
              "      <td>inf</td>\n",
              "    </tr>\n",
              "    <tr>\n",
              "      <th>3</th>\n",
              "      <td>(Pants)</td>\n",
              "      <td>(Skirt)</td>\n",
              "      <td>0.8</td>\n",
              "      <td>0.6</td>\n",
              "      <td>0.6</td>\n",
              "      <td>0.75</td>\n",
              "      <td>1.2500</td>\n",
              "      <td>0.12</td>\n",
              "      <td>1.6</td>\n",
              "    </tr>\n",
              "  </tbody>\n",
              "</table>\n",
              "</div>"
            ],
            "text/plain": [
              "  antecedents consequents  antecedent support  ...    lift  leverage  conviction\n",
              "0     (Pants)     (Scarf)                 0.8  ...  0.9375     -0.04         0.8\n",
              "1     (Scarf)     (Pants)                 0.8  ...  0.9375     -0.04         0.8\n",
              "2     (Skirt)     (Pants)                 0.6  ...  1.2500      0.12         inf\n",
              "3     (Pants)     (Skirt)                 0.8  ...  1.2500      0.12         1.6\n",
              "\n",
              "[4 rows x 9 columns]"
            ]
          },
          "metadata": {
            "tags": []
          },
          "execution_count": 16
        }
      ]
    },
    {
      "cell_type": "code",
      "metadata": {
        "colab": {
          "base_uri": "https://localhost:8080/",
          "height": 171
        },
        "id": "EgMBb-XUhBKL",
        "outputId": "f39f527e-6d9d-4a1d-bde9-9d8977e51aa4"
      },
      "source": [
        "association_rules(freq_items,metric=\"lift\", min_threshold=0.5)"
      ],
      "execution_count": null,
      "outputs": [
        {
          "output_type": "execute_result",
          "data": {
            "text/html": [
              "<div>\n",
              "<style scoped>\n",
              "    .dataframe tbody tr th:only-of-type {\n",
              "        vertical-align: middle;\n",
              "    }\n",
              "\n",
              "    .dataframe tbody tr th {\n",
              "        vertical-align: top;\n",
              "    }\n",
              "\n",
              "    .dataframe thead th {\n",
              "        text-align: right;\n",
              "    }\n",
              "</style>\n",
              "<table border=\"1\" class=\"dataframe\">\n",
              "  <thead>\n",
              "    <tr style=\"text-align: right;\">\n",
              "      <th></th>\n",
              "      <th>antecedents</th>\n",
              "      <th>consequents</th>\n",
              "      <th>antecedent support</th>\n",
              "      <th>consequent support</th>\n",
              "      <th>support</th>\n",
              "      <th>confidence</th>\n",
              "      <th>lift</th>\n",
              "      <th>leverage</th>\n",
              "      <th>conviction</th>\n",
              "    </tr>\n",
              "  </thead>\n",
              "  <tbody>\n",
              "    <tr>\n",
              "      <th>0</th>\n",
              "      <td>(Pants)</td>\n",
              "      <td>(Scarf)</td>\n",
              "      <td>0.8</td>\n",
              "      <td>0.8</td>\n",
              "      <td>0.6</td>\n",
              "      <td>0.75</td>\n",
              "      <td>0.9375</td>\n",
              "      <td>-0.04</td>\n",
              "      <td>0.8</td>\n",
              "    </tr>\n",
              "    <tr>\n",
              "      <th>1</th>\n",
              "      <td>(Scarf)</td>\n",
              "      <td>(Pants)</td>\n",
              "      <td>0.8</td>\n",
              "      <td>0.8</td>\n",
              "      <td>0.6</td>\n",
              "      <td>0.75</td>\n",
              "      <td>0.9375</td>\n",
              "      <td>-0.04</td>\n",
              "      <td>0.8</td>\n",
              "    </tr>\n",
              "    <tr>\n",
              "      <th>2</th>\n",
              "      <td>(Skirt)</td>\n",
              "      <td>(Pants)</td>\n",
              "      <td>0.6</td>\n",
              "      <td>0.8</td>\n",
              "      <td>0.6</td>\n",
              "      <td>1.00</td>\n",
              "      <td>1.2500</td>\n",
              "      <td>0.12</td>\n",
              "      <td>inf</td>\n",
              "    </tr>\n",
              "    <tr>\n",
              "      <th>3</th>\n",
              "      <td>(Pants)</td>\n",
              "      <td>(Skirt)</td>\n",
              "      <td>0.8</td>\n",
              "      <td>0.6</td>\n",
              "      <td>0.6</td>\n",
              "      <td>0.75</td>\n",
              "      <td>1.2500</td>\n",
              "      <td>0.12</td>\n",
              "      <td>1.6</td>\n",
              "    </tr>\n",
              "  </tbody>\n",
              "</table>\n",
              "</div>"
            ],
            "text/plain": [
              "  antecedents consequents  antecedent support  ...    lift  leverage  conviction\n",
              "0     (Pants)     (Scarf)                 0.8  ...  0.9375     -0.04         0.8\n",
              "1     (Scarf)     (Pants)                 0.8  ...  0.9375     -0.04         0.8\n",
              "2     (Skirt)     (Pants)                 0.6  ...  1.2500      0.12         inf\n",
              "3     (Pants)     (Skirt)                 0.8  ...  1.2500      0.12         1.6\n",
              "\n",
              "[4 rows x 9 columns]"
            ]
          },
          "metadata": {
            "tags": []
          },
          "execution_count": 17
        }
      ]
    },
    {
      "cell_type": "markdown",
      "metadata": {
        "id": "7apZ0tkshEz0"
      },
      "source": [
        "#Part II : bigger dataset"
      ]
    },
    {
      "cell_type": "code",
      "metadata": {
        "id": "2ZRvtPHXhHXh"
      },
      "source": [
        "ch = \"/content/drive/MyDrive/Market_Basket_Optimisation.csv\""
      ],
      "execution_count": 24,
      "outputs": []
    },
    {
      "cell_type": "code",
      "metadata": {
        "id": "K7SiszIKwTYJ"
      },
      "source": [
        "data = pd.read_csv(ch, header=None)"
      ],
      "execution_count": 25,
      "outputs": []
    },
    {
      "cell_type": "code",
      "metadata": {
        "colab": {
          "base_uri": "https://localhost:8080/",
          "height": 539
        },
        "id": "e1sgpKXVwW62",
        "outputId": "8eca3ebc-6848-4faf-ff24-41b5f59e9220"
      },
      "source": [
        "data"
      ],
      "execution_count": 26,
      "outputs": [
        {
          "output_type": "execute_result",
          "data": {
            "text/html": [
              "<div>\n",
              "<style scoped>\n",
              "    .dataframe tbody tr th:only-of-type {\n",
              "        vertical-align: middle;\n",
              "    }\n",
              "\n",
              "    .dataframe tbody tr th {\n",
              "        vertical-align: top;\n",
              "    }\n",
              "\n",
              "    .dataframe thead th {\n",
              "        text-align: right;\n",
              "    }\n",
              "</style>\n",
              "<table border=\"1\" class=\"dataframe\">\n",
              "  <thead>\n",
              "    <tr style=\"text-align: right;\">\n",
              "      <th></th>\n",
              "      <th>0</th>\n",
              "      <th>1</th>\n",
              "      <th>2</th>\n",
              "      <th>3</th>\n",
              "      <th>4</th>\n",
              "      <th>5</th>\n",
              "      <th>6</th>\n",
              "      <th>7</th>\n",
              "      <th>8</th>\n",
              "      <th>9</th>\n",
              "      <th>10</th>\n",
              "      <th>11</th>\n",
              "      <th>12</th>\n",
              "      <th>13</th>\n",
              "      <th>14</th>\n",
              "      <th>15</th>\n",
              "      <th>16</th>\n",
              "      <th>17</th>\n",
              "      <th>18</th>\n",
              "      <th>19</th>\n",
              "    </tr>\n",
              "  </thead>\n",
              "  <tbody>\n",
              "    <tr>\n",
              "      <th>0</th>\n",
              "      <td>shrimp</td>\n",
              "      <td>almonds</td>\n",
              "      <td>avocado</td>\n",
              "      <td>vegetables mix</td>\n",
              "      <td>green grapes</td>\n",
              "      <td>whole weat flour</td>\n",
              "      <td>yams</td>\n",
              "      <td>cottage cheese</td>\n",
              "      <td>energy drink</td>\n",
              "      <td>tomato juice</td>\n",
              "      <td>low fat yogurt</td>\n",
              "      <td>green tea</td>\n",
              "      <td>honey</td>\n",
              "      <td>salad</td>\n",
              "      <td>mineral water</td>\n",
              "      <td>salmon</td>\n",
              "      <td>antioxydant juice</td>\n",
              "      <td>frozen smoothie</td>\n",
              "      <td>spinach</td>\n",
              "      <td>olive oil</td>\n",
              "    </tr>\n",
              "    <tr>\n",
              "      <th>1</th>\n",
              "      <td>burgers</td>\n",
              "      <td>meatballs</td>\n",
              "      <td>eggs</td>\n",
              "      <td>NaN</td>\n",
              "      <td>NaN</td>\n",
              "      <td>NaN</td>\n",
              "      <td>NaN</td>\n",
              "      <td>NaN</td>\n",
              "      <td>NaN</td>\n",
              "      <td>NaN</td>\n",
              "      <td>NaN</td>\n",
              "      <td>NaN</td>\n",
              "      <td>NaN</td>\n",
              "      <td>NaN</td>\n",
              "      <td>NaN</td>\n",
              "      <td>NaN</td>\n",
              "      <td>NaN</td>\n",
              "      <td>NaN</td>\n",
              "      <td>NaN</td>\n",
              "      <td>NaN</td>\n",
              "    </tr>\n",
              "    <tr>\n",
              "      <th>2</th>\n",
              "      <td>chutney</td>\n",
              "      <td>NaN</td>\n",
              "      <td>NaN</td>\n",
              "      <td>NaN</td>\n",
              "      <td>NaN</td>\n",
              "      <td>NaN</td>\n",
              "      <td>NaN</td>\n",
              "      <td>NaN</td>\n",
              "      <td>NaN</td>\n",
              "      <td>NaN</td>\n",
              "      <td>NaN</td>\n",
              "      <td>NaN</td>\n",
              "      <td>NaN</td>\n",
              "      <td>NaN</td>\n",
              "      <td>NaN</td>\n",
              "      <td>NaN</td>\n",
              "      <td>NaN</td>\n",
              "      <td>NaN</td>\n",
              "      <td>NaN</td>\n",
              "      <td>NaN</td>\n",
              "    </tr>\n",
              "    <tr>\n",
              "      <th>3</th>\n",
              "      <td>turkey</td>\n",
              "      <td>avocado</td>\n",
              "      <td>NaN</td>\n",
              "      <td>NaN</td>\n",
              "      <td>NaN</td>\n",
              "      <td>NaN</td>\n",
              "      <td>NaN</td>\n",
              "      <td>NaN</td>\n",
              "      <td>NaN</td>\n",
              "      <td>NaN</td>\n",
              "      <td>NaN</td>\n",
              "      <td>NaN</td>\n",
              "      <td>NaN</td>\n",
              "      <td>NaN</td>\n",
              "      <td>NaN</td>\n",
              "      <td>NaN</td>\n",
              "      <td>NaN</td>\n",
              "      <td>NaN</td>\n",
              "      <td>NaN</td>\n",
              "      <td>NaN</td>\n",
              "    </tr>\n",
              "    <tr>\n",
              "      <th>4</th>\n",
              "      <td>mineral water</td>\n",
              "      <td>milk</td>\n",
              "      <td>energy bar</td>\n",
              "      <td>whole wheat rice</td>\n",
              "      <td>green tea</td>\n",
              "      <td>NaN</td>\n",
              "      <td>NaN</td>\n",
              "      <td>NaN</td>\n",
              "      <td>NaN</td>\n",
              "      <td>NaN</td>\n",
              "      <td>NaN</td>\n",
              "      <td>NaN</td>\n",
              "      <td>NaN</td>\n",
              "      <td>NaN</td>\n",
              "      <td>NaN</td>\n",
              "      <td>NaN</td>\n",
              "      <td>NaN</td>\n",
              "      <td>NaN</td>\n",
              "      <td>NaN</td>\n",
              "      <td>NaN</td>\n",
              "    </tr>\n",
              "    <tr>\n",
              "      <th>...</th>\n",
              "      <td>...</td>\n",
              "      <td>...</td>\n",
              "      <td>...</td>\n",
              "      <td>...</td>\n",
              "      <td>...</td>\n",
              "      <td>...</td>\n",
              "      <td>...</td>\n",
              "      <td>...</td>\n",
              "      <td>...</td>\n",
              "      <td>...</td>\n",
              "      <td>...</td>\n",
              "      <td>...</td>\n",
              "      <td>...</td>\n",
              "      <td>...</td>\n",
              "      <td>...</td>\n",
              "      <td>...</td>\n",
              "      <td>...</td>\n",
              "      <td>...</td>\n",
              "      <td>...</td>\n",
              "      <td>...</td>\n",
              "    </tr>\n",
              "    <tr>\n",
              "      <th>7496</th>\n",
              "      <td>butter</td>\n",
              "      <td>light mayo</td>\n",
              "      <td>fresh bread</td>\n",
              "      <td>NaN</td>\n",
              "      <td>NaN</td>\n",
              "      <td>NaN</td>\n",
              "      <td>NaN</td>\n",
              "      <td>NaN</td>\n",
              "      <td>NaN</td>\n",
              "      <td>NaN</td>\n",
              "      <td>NaN</td>\n",
              "      <td>NaN</td>\n",
              "      <td>NaN</td>\n",
              "      <td>NaN</td>\n",
              "      <td>NaN</td>\n",
              "      <td>NaN</td>\n",
              "      <td>NaN</td>\n",
              "      <td>NaN</td>\n",
              "      <td>NaN</td>\n",
              "      <td>NaN</td>\n",
              "    </tr>\n",
              "    <tr>\n",
              "      <th>7497</th>\n",
              "      <td>burgers</td>\n",
              "      <td>frozen vegetables</td>\n",
              "      <td>eggs</td>\n",
              "      <td>french fries</td>\n",
              "      <td>magazines</td>\n",
              "      <td>green tea</td>\n",
              "      <td>NaN</td>\n",
              "      <td>NaN</td>\n",
              "      <td>NaN</td>\n",
              "      <td>NaN</td>\n",
              "      <td>NaN</td>\n",
              "      <td>NaN</td>\n",
              "      <td>NaN</td>\n",
              "      <td>NaN</td>\n",
              "      <td>NaN</td>\n",
              "      <td>NaN</td>\n",
              "      <td>NaN</td>\n",
              "      <td>NaN</td>\n",
              "      <td>NaN</td>\n",
              "      <td>NaN</td>\n",
              "    </tr>\n",
              "    <tr>\n",
              "      <th>7498</th>\n",
              "      <td>chicken</td>\n",
              "      <td>NaN</td>\n",
              "      <td>NaN</td>\n",
              "      <td>NaN</td>\n",
              "      <td>NaN</td>\n",
              "      <td>NaN</td>\n",
              "      <td>NaN</td>\n",
              "      <td>NaN</td>\n",
              "      <td>NaN</td>\n",
              "      <td>NaN</td>\n",
              "      <td>NaN</td>\n",
              "      <td>NaN</td>\n",
              "      <td>NaN</td>\n",
              "      <td>NaN</td>\n",
              "      <td>NaN</td>\n",
              "      <td>NaN</td>\n",
              "      <td>NaN</td>\n",
              "      <td>NaN</td>\n",
              "      <td>NaN</td>\n",
              "      <td>NaN</td>\n",
              "    </tr>\n",
              "    <tr>\n",
              "      <th>7499</th>\n",
              "      <td>escalope</td>\n",
              "      <td>green tea</td>\n",
              "      <td>NaN</td>\n",
              "      <td>NaN</td>\n",
              "      <td>NaN</td>\n",
              "      <td>NaN</td>\n",
              "      <td>NaN</td>\n",
              "      <td>NaN</td>\n",
              "      <td>NaN</td>\n",
              "      <td>NaN</td>\n",
              "      <td>NaN</td>\n",
              "      <td>NaN</td>\n",
              "      <td>NaN</td>\n",
              "      <td>NaN</td>\n",
              "      <td>NaN</td>\n",
              "      <td>NaN</td>\n",
              "      <td>NaN</td>\n",
              "      <td>NaN</td>\n",
              "      <td>NaN</td>\n",
              "      <td>NaN</td>\n",
              "    </tr>\n",
              "    <tr>\n",
              "      <th>7500</th>\n",
              "      <td>eggs</td>\n",
              "      <td>frozen smoothie</td>\n",
              "      <td>yogurt cake</td>\n",
              "      <td>low fat yogurt</td>\n",
              "      <td>NaN</td>\n",
              "      <td>NaN</td>\n",
              "      <td>NaN</td>\n",
              "      <td>NaN</td>\n",
              "      <td>NaN</td>\n",
              "      <td>NaN</td>\n",
              "      <td>NaN</td>\n",
              "      <td>NaN</td>\n",
              "      <td>NaN</td>\n",
              "      <td>NaN</td>\n",
              "      <td>NaN</td>\n",
              "      <td>NaN</td>\n",
              "      <td>NaN</td>\n",
              "      <td>NaN</td>\n",
              "      <td>NaN</td>\n",
              "      <td>NaN</td>\n",
              "    </tr>\n",
              "  </tbody>\n",
              "</table>\n",
              "<p>7501 rows × 20 columns</p>\n",
              "</div>"
            ],
            "text/plain": [
              "                 0                  1   ...       18         19\n",
              "0            shrimp            almonds  ...  spinach  olive oil\n",
              "1           burgers          meatballs  ...      NaN        NaN\n",
              "2           chutney                NaN  ...      NaN        NaN\n",
              "3            turkey            avocado  ...      NaN        NaN\n",
              "4     mineral water               milk  ...      NaN        NaN\n",
              "...             ...                ...  ...      ...        ...\n",
              "7496         butter         light mayo  ...      NaN        NaN\n",
              "7497        burgers  frozen vegetables  ...      NaN        NaN\n",
              "7498        chicken                NaN  ...      NaN        NaN\n",
              "7499       escalope          green tea  ...      NaN        NaN\n",
              "7500           eggs    frozen smoothie  ...      NaN        NaN\n",
              "\n",
              "[7501 rows x 20 columns]"
            ]
          },
          "metadata": {
            "tags": []
          },
          "execution_count": 26
        }
      ]
    },
    {
      "cell_type": "code",
      "metadata": {
        "colab": {
          "base_uri": "https://localhost:8080/",
          "height": 355
        },
        "id": "tU2QlbgDwZDU",
        "outputId": "eb6f2b32-329f-453c-be65-09dc688122d4"
      },
      "source": [
        "# most 10 frequent products\n",
        "pd.DataFrame(data[0].value_counts()[:10])"
      ],
      "execution_count": 27,
      "outputs": [
        {
          "output_type": "execute_result",
          "data": {
            "text/html": [
              "<div>\n",
              "<style scoped>\n",
              "    .dataframe tbody tr th:only-of-type {\n",
              "        vertical-align: middle;\n",
              "    }\n",
              "\n",
              "    .dataframe tbody tr th {\n",
              "        vertical-align: top;\n",
              "    }\n",
              "\n",
              "    .dataframe thead th {\n",
              "        text-align: right;\n",
              "    }\n",
              "</style>\n",
              "<table border=\"1\" class=\"dataframe\">\n",
              "  <thead>\n",
              "    <tr style=\"text-align: right;\">\n",
              "      <th></th>\n",
              "      <th>0</th>\n",
              "    </tr>\n",
              "  </thead>\n",
              "  <tbody>\n",
              "    <tr>\n",
              "      <th>mineral water</th>\n",
              "      <td>577</td>\n",
              "    </tr>\n",
              "    <tr>\n",
              "      <th>burgers</th>\n",
              "      <td>576</td>\n",
              "    </tr>\n",
              "    <tr>\n",
              "      <th>turkey</th>\n",
              "      <td>458</td>\n",
              "    </tr>\n",
              "    <tr>\n",
              "      <th>chocolate</th>\n",
              "      <td>391</td>\n",
              "    </tr>\n",
              "    <tr>\n",
              "      <th>frozen vegetables</th>\n",
              "      <td>373</td>\n",
              "    </tr>\n",
              "    <tr>\n",
              "      <th>spaghetti</th>\n",
              "      <td>354</td>\n",
              "    </tr>\n",
              "    <tr>\n",
              "      <th>shrimp</th>\n",
              "      <td>325</td>\n",
              "    </tr>\n",
              "    <tr>\n",
              "      <th>grated cheese</th>\n",
              "      <td>293</td>\n",
              "    </tr>\n",
              "    <tr>\n",
              "      <th>eggs</th>\n",
              "      <td>279</td>\n",
              "    </tr>\n",
              "    <tr>\n",
              "      <th>cookies</th>\n",
              "      <td>270</td>\n",
              "    </tr>\n",
              "  </tbody>\n",
              "</table>\n",
              "</div>"
            ],
            "text/plain": [
              "                     0\n",
              "mineral water      577\n",
              "burgers            576\n",
              "turkey             458\n",
              "chocolate          391\n",
              "frozen vegetables  373\n",
              "spaghetti          354\n",
              "shrimp             325\n",
              "grated cheese      293\n",
              "eggs               279\n",
              "cookies            270"
            ]
          },
          "metadata": {
            "tags": []
          },
          "execution_count": 27
        }
      ]
    },
    {
      "cell_type": "markdown",
      "metadata": {
        "id": "M3PCX3VLh0ba"
      },
      "source": [
        "* Preprocessing"
      ]
    },
    {
      "cell_type": "markdown",
      "metadata": {
        "id": "3DbqSx_rwiIE"
      },
      "source": [
        "* make our data in a list of a list (making each customers shopping items in an identical list)"
      ]
    },
    {
      "cell_type": "code",
      "metadata": {
        "id": "Dfhs5QIllmsM"
      },
      "source": [
        "from mlxtend.preprocessing import TransactionEncoder"
      ],
      "execution_count": 28,
      "outputs": []
    },
    {
      "cell_type": "code",
      "metadata": {
        "id": "oidStrpNww6_"
      },
      "source": [
        "len_ = len(data)"
      ],
      "execution_count": 29,
      "outputs": []
    },
    {
      "cell_type": "code",
      "metadata": {
        "id": "PbBolT-Rwy9t"
      },
      "source": [
        "trans = []\n",
        "for i in range(1, len_):\n",
        "    trans.append([str(data.values[i,j]) for j in range(0, 20)])\n",
        "\n",
        "# conveting it into an numpy array\n",
        "trans = np.array(trans)"
      ],
      "execution_count": 30,
      "outputs": []
    },
    {
      "cell_type": "code",
      "metadata": {
        "colab": {
          "base_uri": "https://localhost:8080/"
        },
        "id": "_pTdZH7IxOFW",
        "outputId": "5ba75482-6efe-4be0-c37e-69ed87d5585e"
      },
      "source": [
        "trans.shape"
      ],
      "execution_count": 31,
      "outputs": [
        {
          "output_type": "execute_result",
          "data": {
            "text/plain": [
              "(7500, 20)"
            ]
          },
          "metadata": {
            "tags": []
          },
          "execution_count": 31
        }
      ]
    },
    {
      "cell_type": "code",
      "metadata": {
        "colab": {
          "base_uri": "https://localhost:8080/"
        },
        "id": "sKQDiwz9xRfz",
        "outputId": "b2e90957-1ce5-4c4e-fcf1-0f9fad1fffa2"
      },
      "source": [
        "trans[0]"
      ],
      "execution_count": 32,
      "outputs": [
        {
          "output_type": "execute_result",
          "data": {
            "text/plain": [
              "array(['burgers', 'meatballs', 'eggs', 'nan', 'nan', 'nan', 'nan', 'nan',\n",
              "       'nan', 'nan', 'nan', 'nan', 'nan', 'nan', 'nan', 'nan', 'nan',\n",
              "       'nan', 'nan', 'nan'], dtype='<U20')"
            ]
          },
          "metadata": {
            "tags": []
          },
          "execution_count": 32
        }
      ]
    },
    {
      "cell_type": "code",
      "metadata": {
        "colab": {
          "base_uri": "https://localhost:8080/"
        },
        "id": "8i4-oCOhxTbD",
        "outputId": "520d4b1a-1fa3-4dc8-8023-5778eaf1cdb8"
      },
      "source": [
        "trans[8]"
      ],
      "execution_count": 33,
      "outputs": [
        {
          "output_type": "execute_result",
          "data": {
            "text/plain": [
              "array(['french fries', 'nan', 'nan', 'nan', 'nan', 'nan', 'nan', 'nan',\n",
              "       'nan', 'nan', 'nan', 'nan', 'nan', 'nan', 'nan', 'nan', 'nan',\n",
              "       'nan', 'nan', 'nan'], dtype='<U20')"
            ]
          },
          "metadata": {
            "tags": []
          },
          "execution_count": 33
        }
      ]
    },
    {
      "cell_type": "markdown",
      "metadata": {
        "id": "GQHH34e-jaqm"
      },
      "source": [
        "* Apriori Preparation\n",
        "     * transform our dataset into a one-hot-encoded Dataframe\n"
      ]
    },
    {
      "cell_type": "code",
      "metadata": {
        "id": "vB8nyclyxaKO"
      },
      "source": [
        "te_ = TransactionEncoder()\n",
        "data = te_.fit(trans).transform(trans)\n"
      ],
      "execution_count": 34,
      "outputs": []
    },
    {
      "cell_type": "code",
      "metadata": {
        "id": "ESjgkSz0xzEi"
      },
      "source": [
        "data = pd.DataFrame(data, columns = te_.columns_)\n"
      ],
      "execution_count": 35,
      "outputs": []
    },
    {
      "cell_type": "code",
      "metadata": {
        "colab": {
          "base_uri": "https://localhost:8080/",
          "height": 286
        },
        "id": "zIsuU7iVx9Wh",
        "outputId": "077f5444-420d-45d2-9a0f-db937045824b"
      },
      "source": [
        "data.head()"
      ],
      "execution_count": 36,
      "outputs": [
        {
          "output_type": "execute_result",
          "data": {
            "text/html": [
              "<div>\n",
              "<style scoped>\n",
              "    .dataframe tbody tr th:only-of-type {\n",
              "        vertical-align: middle;\n",
              "    }\n",
              "\n",
              "    .dataframe tbody tr th {\n",
              "        vertical-align: top;\n",
              "    }\n",
              "\n",
              "    .dataframe thead th {\n",
              "        text-align: right;\n",
              "    }\n",
              "</style>\n",
              "<table border=\"1\" class=\"dataframe\">\n",
              "  <thead>\n",
              "    <tr style=\"text-align: right;\">\n",
              "      <th></th>\n",
              "      <th>asparagus</th>\n",
              "      <th>almonds</th>\n",
              "      <th>antioxydant juice</th>\n",
              "      <th>asparagus</th>\n",
              "      <th>avocado</th>\n",
              "      <th>babies food</th>\n",
              "      <th>bacon</th>\n",
              "      <th>barbecue sauce</th>\n",
              "      <th>black tea</th>\n",
              "      <th>blueberries</th>\n",
              "      <th>body spray</th>\n",
              "      <th>bramble</th>\n",
              "      <th>brownies</th>\n",
              "      <th>bug spray</th>\n",
              "      <th>burger sauce</th>\n",
              "      <th>burgers</th>\n",
              "      <th>butter</th>\n",
              "      <th>cake</th>\n",
              "      <th>candy bars</th>\n",
              "      <th>carrots</th>\n",
              "      <th>cauliflower</th>\n",
              "      <th>cereals</th>\n",
              "      <th>champagne</th>\n",
              "      <th>chicken</th>\n",
              "      <th>chili</th>\n",
              "      <th>chocolate</th>\n",
              "      <th>chocolate bread</th>\n",
              "      <th>chutney</th>\n",
              "      <th>cider</th>\n",
              "      <th>clothes accessories</th>\n",
              "      <th>cookies</th>\n",
              "      <th>cooking oil</th>\n",
              "      <th>corn</th>\n",
              "      <th>cottage cheese</th>\n",
              "      <th>cream</th>\n",
              "      <th>dessert wine</th>\n",
              "      <th>eggplant</th>\n",
              "      <th>eggs</th>\n",
              "      <th>energy bar</th>\n",
              "      <th>energy drink</th>\n",
              "      <th>...</th>\n",
              "      <th>oil</th>\n",
              "      <th>olive oil</th>\n",
              "      <th>pancakes</th>\n",
              "      <th>parmesan cheese</th>\n",
              "      <th>pasta</th>\n",
              "      <th>pepper</th>\n",
              "      <th>pet food</th>\n",
              "      <th>pickles</th>\n",
              "      <th>protein bar</th>\n",
              "      <th>red wine</th>\n",
              "      <th>rice</th>\n",
              "      <th>salad</th>\n",
              "      <th>salmon</th>\n",
              "      <th>salt</th>\n",
              "      <th>sandwich</th>\n",
              "      <th>shallot</th>\n",
              "      <th>shampoo</th>\n",
              "      <th>shrimp</th>\n",
              "      <th>soda</th>\n",
              "      <th>soup</th>\n",
              "      <th>spaghetti</th>\n",
              "      <th>sparkling water</th>\n",
              "      <th>spinach</th>\n",
              "      <th>strawberries</th>\n",
              "      <th>strong cheese</th>\n",
              "      <th>tea</th>\n",
              "      <th>tomato juice</th>\n",
              "      <th>tomato sauce</th>\n",
              "      <th>tomatoes</th>\n",
              "      <th>toothpaste</th>\n",
              "      <th>turkey</th>\n",
              "      <th>vegetables mix</th>\n",
              "      <th>water spray</th>\n",
              "      <th>white wine</th>\n",
              "      <th>whole weat flour</th>\n",
              "      <th>whole wheat pasta</th>\n",
              "      <th>whole wheat rice</th>\n",
              "      <th>yams</th>\n",
              "      <th>yogurt cake</th>\n",
              "      <th>zucchini</th>\n",
              "    </tr>\n",
              "  </thead>\n",
              "  <tbody>\n",
              "    <tr>\n",
              "      <th>0</th>\n",
              "      <td>False</td>\n",
              "      <td>False</td>\n",
              "      <td>False</td>\n",
              "      <td>False</td>\n",
              "      <td>False</td>\n",
              "      <td>False</td>\n",
              "      <td>False</td>\n",
              "      <td>False</td>\n",
              "      <td>False</td>\n",
              "      <td>False</td>\n",
              "      <td>False</td>\n",
              "      <td>False</td>\n",
              "      <td>False</td>\n",
              "      <td>False</td>\n",
              "      <td>False</td>\n",
              "      <td>True</td>\n",
              "      <td>False</td>\n",
              "      <td>False</td>\n",
              "      <td>False</td>\n",
              "      <td>False</td>\n",
              "      <td>False</td>\n",
              "      <td>False</td>\n",
              "      <td>False</td>\n",
              "      <td>False</td>\n",
              "      <td>False</td>\n",
              "      <td>False</td>\n",
              "      <td>False</td>\n",
              "      <td>False</td>\n",
              "      <td>False</td>\n",
              "      <td>False</td>\n",
              "      <td>False</td>\n",
              "      <td>False</td>\n",
              "      <td>False</td>\n",
              "      <td>False</td>\n",
              "      <td>False</td>\n",
              "      <td>False</td>\n",
              "      <td>False</td>\n",
              "      <td>True</td>\n",
              "      <td>False</td>\n",
              "      <td>False</td>\n",
              "      <td>...</td>\n",
              "      <td>False</td>\n",
              "      <td>False</td>\n",
              "      <td>False</td>\n",
              "      <td>False</td>\n",
              "      <td>False</td>\n",
              "      <td>False</td>\n",
              "      <td>False</td>\n",
              "      <td>False</td>\n",
              "      <td>False</td>\n",
              "      <td>False</td>\n",
              "      <td>False</td>\n",
              "      <td>False</td>\n",
              "      <td>False</td>\n",
              "      <td>False</td>\n",
              "      <td>False</td>\n",
              "      <td>False</td>\n",
              "      <td>False</td>\n",
              "      <td>False</td>\n",
              "      <td>False</td>\n",
              "      <td>False</td>\n",
              "      <td>False</td>\n",
              "      <td>False</td>\n",
              "      <td>False</td>\n",
              "      <td>False</td>\n",
              "      <td>False</td>\n",
              "      <td>False</td>\n",
              "      <td>False</td>\n",
              "      <td>False</td>\n",
              "      <td>False</td>\n",
              "      <td>False</td>\n",
              "      <td>False</td>\n",
              "      <td>False</td>\n",
              "      <td>False</td>\n",
              "      <td>False</td>\n",
              "      <td>False</td>\n",
              "      <td>False</td>\n",
              "      <td>False</td>\n",
              "      <td>False</td>\n",
              "      <td>False</td>\n",
              "      <td>False</td>\n",
              "    </tr>\n",
              "    <tr>\n",
              "      <th>1</th>\n",
              "      <td>False</td>\n",
              "      <td>False</td>\n",
              "      <td>False</td>\n",
              "      <td>False</td>\n",
              "      <td>False</td>\n",
              "      <td>False</td>\n",
              "      <td>False</td>\n",
              "      <td>False</td>\n",
              "      <td>False</td>\n",
              "      <td>False</td>\n",
              "      <td>False</td>\n",
              "      <td>False</td>\n",
              "      <td>False</td>\n",
              "      <td>False</td>\n",
              "      <td>False</td>\n",
              "      <td>False</td>\n",
              "      <td>False</td>\n",
              "      <td>False</td>\n",
              "      <td>False</td>\n",
              "      <td>False</td>\n",
              "      <td>False</td>\n",
              "      <td>False</td>\n",
              "      <td>False</td>\n",
              "      <td>False</td>\n",
              "      <td>False</td>\n",
              "      <td>False</td>\n",
              "      <td>False</td>\n",
              "      <td>True</td>\n",
              "      <td>False</td>\n",
              "      <td>False</td>\n",
              "      <td>False</td>\n",
              "      <td>False</td>\n",
              "      <td>False</td>\n",
              "      <td>False</td>\n",
              "      <td>False</td>\n",
              "      <td>False</td>\n",
              "      <td>False</td>\n",
              "      <td>False</td>\n",
              "      <td>False</td>\n",
              "      <td>False</td>\n",
              "      <td>...</td>\n",
              "      <td>False</td>\n",
              "      <td>False</td>\n",
              "      <td>False</td>\n",
              "      <td>False</td>\n",
              "      <td>False</td>\n",
              "      <td>False</td>\n",
              "      <td>False</td>\n",
              "      <td>False</td>\n",
              "      <td>False</td>\n",
              "      <td>False</td>\n",
              "      <td>False</td>\n",
              "      <td>False</td>\n",
              "      <td>False</td>\n",
              "      <td>False</td>\n",
              "      <td>False</td>\n",
              "      <td>False</td>\n",
              "      <td>False</td>\n",
              "      <td>False</td>\n",
              "      <td>False</td>\n",
              "      <td>False</td>\n",
              "      <td>False</td>\n",
              "      <td>False</td>\n",
              "      <td>False</td>\n",
              "      <td>False</td>\n",
              "      <td>False</td>\n",
              "      <td>False</td>\n",
              "      <td>False</td>\n",
              "      <td>False</td>\n",
              "      <td>False</td>\n",
              "      <td>False</td>\n",
              "      <td>False</td>\n",
              "      <td>False</td>\n",
              "      <td>False</td>\n",
              "      <td>False</td>\n",
              "      <td>False</td>\n",
              "      <td>False</td>\n",
              "      <td>False</td>\n",
              "      <td>False</td>\n",
              "      <td>False</td>\n",
              "      <td>False</td>\n",
              "    </tr>\n",
              "    <tr>\n",
              "      <th>2</th>\n",
              "      <td>False</td>\n",
              "      <td>False</td>\n",
              "      <td>False</td>\n",
              "      <td>False</td>\n",
              "      <td>True</td>\n",
              "      <td>False</td>\n",
              "      <td>False</td>\n",
              "      <td>False</td>\n",
              "      <td>False</td>\n",
              "      <td>False</td>\n",
              "      <td>False</td>\n",
              "      <td>False</td>\n",
              "      <td>False</td>\n",
              "      <td>False</td>\n",
              "      <td>False</td>\n",
              "      <td>False</td>\n",
              "      <td>False</td>\n",
              "      <td>False</td>\n",
              "      <td>False</td>\n",
              "      <td>False</td>\n",
              "      <td>False</td>\n",
              "      <td>False</td>\n",
              "      <td>False</td>\n",
              "      <td>False</td>\n",
              "      <td>False</td>\n",
              "      <td>False</td>\n",
              "      <td>False</td>\n",
              "      <td>False</td>\n",
              "      <td>False</td>\n",
              "      <td>False</td>\n",
              "      <td>False</td>\n",
              "      <td>False</td>\n",
              "      <td>False</td>\n",
              "      <td>False</td>\n",
              "      <td>False</td>\n",
              "      <td>False</td>\n",
              "      <td>False</td>\n",
              "      <td>False</td>\n",
              "      <td>False</td>\n",
              "      <td>False</td>\n",
              "      <td>...</td>\n",
              "      <td>False</td>\n",
              "      <td>False</td>\n",
              "      <td>False</td>\n",
              "      <td>False</td>\n",
              "      <td>False</td>\n",
              "      <td>False</td>\n",
              "      <td>False</td>\n",
              "      <td>False</td>\n",
              "      <td>False</td>\n",
              "      <td>False</td>\n",
              "      <td>False</td>\n",
              "      <td>False</td>\n",
              "      <td>False</td>\n",
              "      <td>False</td>\n",
              "      <td>False</td>\n",
              "      <td>False</td>\n",
              "      <td>False</td>\n",
              "      <td>False</td>\n",
              "      <td>False</td>\n",
              "      <td>False</td>\n",
              "      <td>False</td>\n",
              "      <td>False</td>\n",
              "      <td>False</td>\n",
              "      <td>False</td>\n",
              "      <td>False</td>\n",
              "      <td>False</td>\n",
              "      <td>False</td>\n",
              "      <td>False</td>\n",
              "      <td>False</td>\n",
              "      <td>False</td>\n",
              "      <td>True</td>\n",
              "      <td>False</td>\n",
              "      <td>False</td>\n",
              "      <td>False</td>\n",
              "      <td>False</td>\n",
              "      <td>False</td>\n",
              "      <td>False</td>\n",
              "      <td>False</td>\n",
              "      <td>False</td>\n",
              "      <td>False</td>\n",
              "    </tr>\n",
              "    <tr>\n",
              "      <th>3</th>\n",
              "      <td>False</td>\n",
              "      <td>False</td>\n",
              "      <td>False</td>\n",
              "      <td>False</td>\n",
              "      <td>False</td>\n",
              "      <td>False</td>\n",
              "      <td>False</td>\n",
              "      <td>False</td>\n",
              "      <td>False</td>\n",
              "      <td>False</td>\n",
              "      <td>False</td>\n",
              "      <td>False</td>\n",
              "      <td>False</td>\n",
              "      <td>False</td>\n",
              "      <td>False</td>\n",
              "      <td>False</td>\n",
              "      <td>False</td>\n",
              "      <td>False</td>\n",
              "      <td>False</td>\n",
              "      <td>False</td>\n",
              "      <td>False</td>\n",
              "      <td>False</td>\n",
              "      <td>False</td>\n",
              "      <td>False</td>\n",
              "      <td>False</td>\n",
              "      <td>False</td>\n",
              "      <td>False</td>\n",
              "      <td>False</td>\n",
              "      <td>False</td>\n",
              "      <td>False</td>\n",
              "      <td>False</td>\n",
              "      <td>False</td>\n",
              "      <td>False</td>\n",
              "      <td>False</td>\n",
              "      <td>False</td>\n",
              "      <td>False</td>\n",
              "      <td>False</td>\n",
              "      <td>False</td>\n",
              "      <td>True</td>\n",
              "      <td>False</td>\n",
              "      <td>...</td>\n",
              "      <td>False</td>\n",
              "      <td>False</td>\n",
              "      <td>False</td>\n",
              "      <td>False</td>\n",
              "      <td>False</td>\n",
              "      <td>False</td>\n",
              "      <td>False</td>\n",
              "      <td>False</td>\n",
              "      <td>False</td>\n",
              "      <td>False</td>\n",
              "      <td>False</td>\n",
              "      <td>False</td>\n",
              "      <td>False</td>\n",
              "      <td>False</td>\n",
              "      <td>False</td>\n",
              "      <td>False</td>\n",
              "      <td>False</td>\n",
              "      <td>False</td>\n",
              "      <td>False</td>\n",
              "      <td>False</td>\n",
              "      <td>False</td>\n",
              "      <td>False</td>\n",
              "      <td>False</td>\n",
              "      <td>False</td>\n",
              "      <td>False</td>\n",
              "      <td>False</td>\n",
              "      <td>False</td>\n",
              "      <td>False</td>\n",
              "      <td>False</td>\n",
              "      <td>False</td>\n",
              "      <td>False</td>\n",
              "      <td>False</td>\n",
              "      <td>False</td>\n",
              "      <td>False</td>\n",
              "      <td>False</td>\n",
              "      <td>False</td>\n",
              "      <td>True</td>\n",
              "      <td>False</td>\n",
              "      <td>False</td>\n",
              "      <td>False</td>\n",
              "    </tr>\n",
              "    <tr>\n",
              "      <th>4</th>\n",
              "      <td>False</td>\n",
              "      <td>False</td>\n",
              "      <td>False</td>\n",
              "      <td>False</td>\n",
              "      <td>False</td>\n",
              "      <td>False</td>\n",
              "      <td>False</td>\n",
              "      <td>False</td>\n",
              "      <td>False</td>\n",
              "      <td>False</td>\n",
              "      <td>False</td>\n",
              "      <td>False</td>\n",
              "      <td>False</td>\n",
              "      <td>False</td>\n",
              "      <td>False</td>\n",
              "      <td>False</td>\n",
              "      <td>False</td>\n",
              "      <td>False</td>\n",
              "      <td>False</td>\n",
              "      <td>False</td>\n",
              "      <td>False</td>\n",
              "      <td>False</td>\n",
              "      <td>False</td>\n",
              "      <td>False</td>\n",
              "      <td>False</td>\n",
              "      <td>False</td>\n",
              "      <td>False</td>\n",
              "      <td>False</td>\n",
              "      <td>False</td>\n",
              "      <td>False</td>\n",
              "      <td>False</td>\n",
              "      <td>False</td>\n",
              "      <td>False</td>\n",
              "      <td>False</td>\n",
              "      <td>False</td>\n",
              "      <td>False</td>\n",
              "      <td>False</td>\n",
              "      <td>False</td>\n",
              "      <td>False</td>\n",
              "      <td>False</td>\n",
              "      <td>...</td>\n",
              "      <td>False</td>\n",
              "      <td>False</td>\n",
              "      <td>False</td>\n",
              "      <td>False</td>\n",
              "      <td>False</td>\n",
              "      <td>False</td>\n",
              "      <td>False</td>\n",
              "      <td>False</td>\n",
              "      <td>False</td>\n",
              "      <td>False</td>\n",
              "      <td>False</td>\n",
              "      <td>False</td>\n",
              "      <td>False</td>\n",
              "      <td>False</td>\n",
              "      <td>False</td>\n",
              "      <td>False</td>\n",
              "      <td>False</td>\n",
              "      <td>False</td>\n",
              "      <td>False</td>\n",
              "      <td>False</td>\n",
              "      <td>False</td>\n",
              "      <td>False</td>\n",
              "      <td>False</td>\n",
              "      <td>False</td>\n",
              "      <td>False</td>\n",
              "      <td>False</td>\n",
              "      <td>False</td>\n",
              "      <td>False</td>\n",
              "      <td>False</td>\n",
              "      <td>False</td>\n",
              "      <td>False</td>\n",
              "      <td>False</td>\n",
              "      <td>False</td>\n",
              "      <td>False</td>\n",
              "      <td>False</td>\n",
              "      <td>False</td>\n",
              "      <td>False</td>\n",
              "      <td>False</td>\n",
              "      <td>False</td>\n",
              "      <td>False</td>\n",
              "    </tr>\n",
              "  </tbody>\n",
              "</table>\n",
              "<p>5 rows × 121 columns</p>\n",
              "</div>"
            ],
            "text/plain": [
              "    asparagus  almonds  antioxydant juice  ...   yams  yogurt cake  zucchini\n",
              "0       False    False              False  ...  False        False     False\n",
              "1       False    False              False  ...  False        False     False\n",
              "2       False    False              False  ...  False        False     False\n",
              "3       False    False              False  ...  False        False     False\n",
              "4       False    False              False  ...  False        False     False\n",
              "\n",
              "[5 rows x 121 columns]"
            ]
          },
          "metadata": {
            "tags": []
          },
          "execution_count": 36
        }
      ]
    },
    {
      "cell_type": "code",
      "metadata": {
        "colab": {
          "base_uri": "https://localhost:8080/",
          "height": 255
        },
        "id": "ip-vHq-nyDUv",
        "outputId": "b67468f6-c826-4af5-d517-2617a27ae2e1"
      },
      "source": [
        "data.describe(include=\"all\")"
      ],
      "execution_count": 37,
      "outputs": [
        {
          "output_type": "execute_result",
          "data": {
            "text/html": [
              "<div>\n",
              "<style scoped>\n",
              "    .dataframe tbody tr th:only-of-type {\n",
              "        vertical-align: middle;\n",
              "    }\n",
              "\n",
              "    .dataframe tbody tr th {\n",
              "        vertical-align: top;\n",
              "    }\n",
              "\n",
              "    .dataframe thead th {\n",
              "        text-align: right;\n",
              "    }\n",
              "</style>\n",
              "<table border=\"1\" class=\"dataframe\">\n",
              "  <thead>\n",
              "    <tr style=\"text-align: right;\">\n",
              "      <th></th>\n",
              "      <th>asparagus</th>\n",
              "      <th>almonds</th>\n",
              "      <th>antioxydant juice</th>\n",
              "      <th>asparagus</th>\n",
              "      <th>avocado</th>\n",
              "      <th>babies food</th>\n",
              "      <th>bacon</th>\n",
              "      <th>barbecue sauce</th>\n",
              "      <th>black tea</th>\n",
              "      <th>blueberries</th>\n",
              "      <th>body spray</th>\n",
              "      <th>bramble</th>\n",
              "      <th>brownies</th>\n",
              "      <th>bug spray</th>\n",
              "      <th>burger sauce</th>\n",
              "      <th>burgers</th>\n",
              "      <th>butter</th>\n",
              "      <th>cake</th>\n",
              "      <th>candy bars</th>\n",
              "      <th>carrots</th>\n",
              "      <th>cauliflower</th>\n",
              "      <th>cereals</th>\n",
              "      <th>champagne</th>\n",
              "      <th>chicken</th>\n",
              "      <th>chili</th>\n",
              "      <th>chocolate</th>\n",
              "      <th>chocolate bread</th>\n",
              "      <th>chutney</th>\n",
              "      <th>cider</th>\n",
              "      <th>clothes accessories</th>\n",
              "      <th>cookies</th>\n",
              "      <th>cooking oil</th>\n",
              "      <th>corn</th>\n",
              "      <th>cottage cheese</th>\n",
              "      <th>cream</th>\n",
              "      <th>dessert wine</th>\n",
              "      <th>eggplant</th>\n",
              "      <th>eggs</th>\n",
              "      <th>energy bar</th>\n",
              "      <th>energy drink</th>\n",
              "      <th>...</th>\n",
              "      <th>oil</th>\n",
              "      <th>olive oil</th>\n",
              "      <th>pancakes</th>\n",
              "      <th>parmesan cheese</th>\n",
              "      <th>pasta</th>\n",
              "      <th>pepper</th>\n",
              "      <th>pet food</th>\n",
              "      <th>pickles</th>\n",
              "      <th>protein bar</th>\n",
              "      <th>red wine</th>\n",
              "      <th>rice</th>\n",
              "      <th>salad</th>\n",
              "      <th>salmon</th>\n",
              "      <th>salt</th>\n",
              "      <th>sandwich</th>\n",
              "      <th>shallot</th>\n",
              "      <th>shampoo</th>\n",
              "      <th>shrimp</th>\n",
              "      <th>soda</th>\n",
              "      <th>soup</th>\n",
              "      <th>spaghetti</th>\n",
              "      <th>sparkling water</th>\n",
              "      <th>spinach</th>\n",
              "      <th>strawberries</th>\n",
              "      <th>strong cheese</th>\n",
              "      <th>tea</th>\n",
              "      <th>tomato juice</th>\n",
              "      <th>tomato sauce</th>\n",
              "      <th>tomatoes</th>\n",
              "      <th>toothpaste</th>\n",
              "      <th>turkey</th>\n",
              "      <th>vegetables mix</th>\n",
              "      <th>water spray</th>\n",
              "      <th>white wine</th>\n",
              "      <th>whole weat flour</th>\n",
              "      <th>whole wheat pasta</th>\n",
              "      <th>whole wheat rice</th>\n",
              "      <th>yams</th>\n",
              "      <th>yogurt cake</th>\n",
              "      <th>zucchini</th>\n",
              "    </tr>\n",
              "  </thead>\n",
              "  <tbody>\n",
              "    <tr>\n",
              "      <th>count</th>\n",
              "      <td>7500</td>\n",
              "      <td>7500</td>\n",
              "      <td>7500</td>\n",
              "      <td>7500</td>\n",
              "      <td>7500</td>\n",
              "      <td>7500</td>\n",
              "      <td>7500</td>\n",
              "      <td>7500</td>\n",
              "      <td>7500</td>\n",
              "      <td>7500</td>\n",
              "      <td>7500</td>\n",
              "      <td>7500</td>\n",
              "      <td>7500</td>\n",
              "      <td>7500</td>\n",
              "      <td>7500</td>\n",
              "      <td>7500</td>\n",
              "      <td>7500</td>\n",
              "      <td>7500</td>\n",
              "      <td>7500</td>\n",
              "      <td>7500</td>\n",
              "      <td>7500</td>\n",
              "      <td>7500</td>\n",
              "      <td>7500</td>\n",
              "      <td>7500</td>\n",
              "      <td>7500</td>\n",
              "      <td>7500</td>\n",
              "      <td>7500</td>\n",
              "      <td>7500</td>\n",
              "      <td>7500</td>\n",
              "      <td>7500</td>\n",
              "      <td>7500</td>\n",
              "      <td>7500</td>\n",
              "      <td>7500</td>\n",
              "      <td>7500</td>\n",
              "      <td>7500</td>\n",
              "      <td>7500</td>\n",
              "      <td>7500</td>\n",
              "      <td>7500</td>\n",
              "      <td>7500</td>\n",
              "      <td>7500</td>\n",
              "      <td>...</td>\n",
              "      <td>7500</td>\n",
              "      <td>7500</td>\n",
              "      <td>7500</td>\n",
              "      <td>7500</td>\n",
              "      <td>7500</td>\n",
              "      <td>7500</td>\n",
              "      <td>7500</td>\n",
              "      <td>7500</td>\n",
              "      <td>7500</td>\n",
              "      <td>7500</td>\n",
              "      <td>7500</td>\n",
              "      <td>7500</td>\n",
              "      <td>7500</td>\n",
              "      <td>7500</td>\n",
              "      <td>7500</td>\n",
              "      <td>7500</td>\n",
              "      <td>7500</td>\n",
              "      <td>7500</td>\n",
              "      <td>7500</td>\n",
              "      <td>7500</td>\n",
              "      <td>7500</td>\n",
              "      <td>7500</td>\n",
              "      <td>7500</td>\n",
              "      <td>7500</td>\n",
              "      <td>7500</td>\n",
              "      <td>7500</td>\n",
              "      <td>7500</td>\n",
              "      <td>7500</td>\n",
              "      <td>7500</td>\n",
              "      <td>7500</td>\n",
              "      <td>7500</td>\n",
              "      <td>7500</td>\n",
              "      <td>7500</td>\n",
              "      <td>7500</td>\n",
              "      <td>7500</td>\n",
              "      <td>7500</td>\n",
              "      <td>7500</td>\n",
              "      <td>7500</td>\n",
              "      <td>7500</td>\n",
              "      <td>7500</td>\n",
              "    </tr>\n",
              "    <tr>\n",
              "      <th>unique</th>\n",
              "      <td>2</td>\n",
              "      <td>2</td>\n",
              "      <td>2</td>\n",
              "      <td>2</td>\n",
              "      <td>2</td>\n",
              "      <td>2</td>\n",
              "      <td>2</td>\n",
              "      <td>2</td>\n",
              "      <td>2</td>\n",
              "      <td>2</td>\n",
              "      <td>2</td>\n",
              "      <td>2</td>\n",
              "      <td>2</td>\n",
              "      <td>2</td>\n",
              "      <td>2</td>\n",
              "      <td>2</td>\n",
              "      <td>2</td>\n",
              "      <td>2</td>\n",
              "      <td>2</td>\n",
              "      <td>2</td>\n",
              "      <td>2</td>\n",
              "      <td>2</td>\n",
              "      <td>2</td>\n",
              "      <td>2</td>\n",
              "      <td>2</td>\n",
              "      <td>2</td>\n",
              "      <td>2</td>\n",
              "      <td>2</td>\n",
              "      <td>2</td>\n",
              "      <td>2</td>\n",
              "      <td>2</td>\n",
              "      <td>2</td>\n",
              "      <td>2</td>\n",
              "      <td>2</td>\n",
              "      <td>2</td>\n",
              "      <td>2</td>\n",
              "      <td>2</td>\n",
              "      <td>2</td>\n",
              "      <td>2</td>\n",
              "      <td>2</td>\n",
              "      <td>...</td>\n",
              "      <td>2</td>\n",
              "      <td>2</td>\n",
              "      <td>2</td>\n",
              "      <td>2</td>\n",
              "      <td>2</td>\n",
              "      <td>2</td>\n",
              "      <td>2</td>\n",
              "      <td>2</td>\n",
              "      <td>2</td>\n",
              "      <td>2</td>\n",
              "      <td>2</td>\n",
              "      <td>2</td>\n",
              "      <td>2</td>\n",
              "      <td>2</td>\n",
              "      <td>2</td>\n",
              "      <td>2</td>\n",
              "      <td>2</td>\n",
              "      <td>2</td>\n",
              "      <td>2</td>\n",
              "      <td>2</td>\n",
              "      <td>2</td>\n",
              "      <td>2</td>\n",
              "      <td>2</td>\n",
              "      <td>2</td>\n",
              "      <td>2</td>\n",
              "      <td>2</td>\n",
              "      <td>2</td>\n",
              "      <td>2</td>\n",
              "      <td>2</td>\n",
              "      <td>2</td>\n",
              "      <td>2</td>\n",
              "      <td>2</td>\n",
              "      <td>2</td>\n",
              "      <td>2</td>\n",
              "      <td>2</td>\n",
              "      <td>2</td>\n",
              "      <td>2</td>\n",
              "      <td>2</td>\n",
              "      <td>2</td>\n",
              "      <td>2</td>\n",
              "    </tr>\n",
              "    <tr>\n",
              "      <th>top</th>\n",
              "      <td>False</td>\n",
              "      <td>False</td>\n",
              "      <td>False</td>\n",
              "      <td>False</td>\n",
              "      <td>False</td>\n",
              "      <td>False</td>\n",
              "      <td>False</td>\n",
              "      <td>False</td>\n",
              "      <td>False</td>\n",
              "      <td>False</td>\n",
              "      <td>False</td>\n",
              "      <td>False</td>\n",
              "      <td>False</td>\n",
              "      <td>False</td>\n",
              "      <td>False</td>\n",
              "      <td>False</td>\n",
              "      <td>False</td>\n",
              "      <td>False</td>\n",
              "      <td>False</td>\n",
              "      <td>False</td>\n",
              "      <td>False</td>\n",
              "      <td>False</td>\n",
              "      <td>False</td>\n",
              "      <td>False</td>\n",
              "      <td>False</td>\n",
              "      <td>False</td>\n",
              "      <td>False</td>\n",
              "      <td>False</td>\n",
              "      <td>False</td>\n",
              "      <td>False</td>\n",
              "      <td>False</td>\n",
              "      <td>False</td>\n",
              "      <td>False</td>\n",
              "      <td>False</td>\n",
              "      <td>False</td>\n",
              "      <td>False</td>\n",
              "      <td>False</td>\n",
              "      <td>False</td>\n",
              "      <td>False</td>\n",
              "      <td>False</td>\n",
              "      <td>...</td>\n",
              "      <td>False</td>\n",
              "      <td>False</td>\n",
              "      <td>False</td>\n",
              "      <td>False</td>\n",
              "      <td>False</td>\n",
              "      <td>False</td>\n",
              "      <td>False</td>\n",
              "      <td>False</td>\n",
              "      <td>False</td>\n",
              "      <td>False</td>\n",
              "      <td>False</td>\n",
              "      <td>False</td>\n",
              "      <td>False</td>\n",
              "      <td>False</td>\n",
              "      <td>False</td>\n",
              "      <td>False</td>\n",
              "      <td>False</td>\n",
              "      <td>False</td>\n",
              "      <td>False</td>\n",
              "      <td>False</td>\n",
              "      <td>False</td>\n",
              "      <td>False</td>\n",
              "      <td>False</td>\n",
              "      <td>False</td>\n",
              "      <td>False</td>\n",
              "      <td>False</td>\n",
              "      <td>False</td>\n",
              "      <td>False</td>\n",
              "      <td>False</td>\n",
              "      <td>False</td>\n",
              "      <td>False</td>\n",
              "      <td>False</td>\n",
              "      <td>False</td>\n",
              "      <td>False</td>\n",
              "      <td>False</td>\n",
              "      <td>False</td>\n",
              "      <td>False</td>\n",
              "      <td>False</td>\n",
              "      <td>False</td>\n",
              "      <td>False</td>\n",
              "    </tr>\n",
              "    <tr>\n",
              "      <th>freq</th>\n",
              "      <td>7499</td>\n",
              "      <td>7348</td>\n",
              "      <td>7434</td>\n",
              "      <td>7465</td>\n",
              "      <td>7251</td>\n",
              "      <td>7466</td>\n",
              "      <td>7435</td>\n",
              "      <td>7419</td>\n",
              "      <td>7393</td>\n",
              "      <td>7431</td>\n",
              "      <td>7414</td>\n",
              "      <td>7486</td>\n",
              "      <td>7247</td>\n",
              "      <td>7435</td>\n",
              "      <td>7456</td>\n",
              "      <td>6846</td>\n",
              "      <td>7274</td>\n",
              "      <td>6892</td>\n",
              "      <td>7427</td>\n",
              "      <td>7385</td>\n",
              "      <td>7464</td>\n",
              "      <td>7307</td>\n",
              "      <td>7149</td>\n",
              "      <td>7050</td>\n",
              "      <td>7454</td>\n",
              "      <td>6271</td>\n",
              "      <td>7468</td>\n",
              "      <td>7469</td>\n",
              "      <td>7421</td>\n",
              "      <td>7437</td>\n",
              "      <td>6897</td>\n",
              "      <td>7117</td>\n",
              "      <td>7464</td>\n",
              "      <td>7262</td>\n",
              "      <td>7493</td>\n",
              "      <td>7467</td>\n",
              "      <td>7401</td>\n",
              "      <td>6152</td>\n",
              "      <td>7297</td>\n",
              "      <td>7301</td>\n",
              "      <td>...</td>\n",
              "      <td>7327</td>\n",
              "      <td>7007</td>\n",
              "      <td>6787</td>\n",
              "      <td>7351</td>\n",
              "      <td>7382</td>\n",
              "      <td>7301</td>\n",
              "      <td>7451</td>\n",
              "      <td>7455</td>\n",
              "      <td>7361</td>\n",
              "      <td>7289</td>\n",
              "      <td>7359</td>\n",
              "      <td>7464</td>\n",
              "      <td>7182</td>\n",
              "      <td>7431</td>\n",
              "      <td>7466</td>\n",
              "      <td>7442</td>\n",
              "      <td>7463</td>\n",
              "      <td>6965</td>\n",
              "      <td>7453</td>\n",
              "      <td>7121</td>\n",
              "      <td>6194</td>\n",
              "      <td>7453</td>\n",
              "      <td>7448</td>\n",
              "      <td>7340</td>\n",
              "      <td>7442</td>\n",
              "      <td>7471</td>\n",
              "      <td>7273</td>\n",
              "      <td>7394</td>\n",
              "      <td>6987</td>\n",
              "      <td>7439</td>\n",
              "      <td>7031</td>\n",
              "      <td>7308</td>\n",
              "      <td>7497</td>\n",
              "      <td>7376</td>\n",
              "      <td>7431</td>\n",
              "      <td>7279</td>\n",
              "      <td>7061</td>\n",
              "      <td>7415</td>\n",
              "      <td>7295</td>\n",
              "      <td>7429</td>\n",
              "    </tr>\n",
              "  </tbody>\n",
              "</table>\n",
              "<p>4 rows × 121 columns</p>\n",
              "</div>"
            ],
            "text/plain": [
              "        asparagus almonds antioxydant juice  ...   yams yogurt cake zucchini\n",
              "count        7500    7500              7500  ...   7500        7500     7500\n",
              "unique          2       2                 2  ...      2           2        2\n",
              "top         False   False             False  ...  False       False    False\n",
              "freq         7499    7348              7434  ...   7415        7295     7429\n",
              "\n",
              "[4 rows x 121 columns]"
            ]
          },
          "metadata": {
            "tags": []
          },
          "execution_count": 37
        }
      ]
    },
    {
      "cell_type": "code",
      "metadata": {
        "colab": {
          "base_uri": "https://localhost:8080/"
        },
        "id": "pytj9kCbyPli",
        "outputId": "1bca0d69-59de-4754-8723-fe260281332b"
      },
      "source": [
        "data.isnull().sum()"
      ],
      "execution_count": 38,
      "outputs": [
        {
          "output_type": "execute_result",
          "data": {
            "text/plain": [
              " asparagus           0\n",
              "almonds              0\n",
              "antioxydant juice    0\n",
              "asparagus            0\n",
              "avocado              0\n",
              "                    ..\n",
              "whole wheat pasta    0\n",
              "whole wheat rice     0\n",
              "yams                 0\n",
              "yogurt cake          0\n",
              "zucchini             0\n",
              "Length: 121, dtype: int64"
            ]
          },
          "metadata": {
            "tags": []
          },
          "execution_count": 38
        }
      ]
    },
    {
      "cell_type": "code",
      "metadata": {
        "colab": {
          "base_uri": "https://localhost:8080/"
        },
        "id": "Te3T-H0jyYj_",
        "outputId": "0e9e9b03-39a9-46ec-aba9-356c5da0b552"
      },
      "source": [
        "len(data.columns)"
      ],
      "execution_count": 39,
      "outputs": [
        {
          "output_type": "execute_result",
          "data": {
            "text/plain": [
              "121"
            ]
          },
          "metadata": {
            "tags": []
          },
          "execution_count": 39
        }
      ]
    },
    {
      "cell_type": "markdown",
      "metadata": {
        "id": "Wtp9b7jgzJdp"
      },
      "source": [
        "* Remove NaN feature from our list"
      ]
    },
    {
      "cell_type": "code",
      "metadata": {
        "id": "xMV0Udv-y-as"
      },
      "source": [
        "data.drop('nan', axis=1, inplace=True)"
      ],
      "execution_count": 40,
      "outputs": []
    },
    {
      "cell_type": "code",
      "metadata": {
        "colab": {
          "base_uri": "https://localhost:8080/"
        },
        "id": "BhXu5ZqYzbe2",
        "outputId": "af82958f-7e1b-479c-f3b1-404469a63610"
      },
      "source": [
        "len(data.columns)"
      ],
      "execution_count": 41,
      "outputs": [
        {
          "output_type": "execute_result",
          "data": {
            "text/plain": [
              "120"
            ]
          },
          "metadata": {
            "tags": []
          },
          "execution_count": 41
        }
      ]
    },
    {
      "cell_type": "markdown",
      "metadata": {
        "id": "kpx6kYQs0fPq"
      },
      "source": [
        "# Apriori Algorithm"
      ]
    },
    {
      "cell_type": "code",
      "metadata": {
        "colab": {
          "base_uri": "https://localhost:8080/",
          "height": 415
        },
        "id": "6ww2WASe0ZdR",
        "outputId": "3d70c789-a383-408b-b860-5c960a655a19"
      },
      "source": [
        "frequent_itemsets_apriori = apriori(data, \n",
        "                                    min_support = 0.003, \n",
        "                                    use_colnames= True)\n",
        "\n",
        "frequent_itemsets_apriori['length'] = frequent_itemsets_apriori['itemsets'].apply(lambda x: len(x))\n",
        "frequent_itemsets_apriori"
      ],
      "execution_count": 42,
      "outputs": [
        {
          "output_type": "execute_result",
          "data": {
            "text/html": [
              "<div>\n",
              "<style scoped>\n",
              "    .dataframe tbody tr th:only-of-type {\n",
              "        vertical-align: middle;\n",
              "    }\n",
              "\n",
              "    .dataframe tbody tr th {\n",
              "        vertical-align: top;\n",
              "    }\n",
              "\n",
              "    .dataframe thead th {\n",
              "        text-align: right;\n",
              "    }\n",
              "</style>\n",
              "<table border=\"1\" class=\"dataframe\">\n",
              "  <thead>\n",
              "    <tr style=\"text-align: right;\">\n",
              "      <th></th>\n",
              "      <th>support</th>\n",
              "      <th>itemsets</th>\n",
              "      <th>length</th>\n",
              "    </tr>\n",
              "  </thead>\n",
              "  <tbody>\n",
              "    <tr>\n",
              "      <th>0</th>\n",
              "      <td>0.020267</td>\n",
              "      <td>(almonds)</td>\n",
              "      <td>1</td>\n",
              "    </tr>\n",
              "    <tr>\n",
              "      <th>1</th>\n",
              "      <td>0.008800</td>\n",
              "      <td>(antioxydant juice)</td>\n",
              "      <td>1</td>\n",
              "    </tr>\n",
              "    <tr>\n",
              "      <th>2</th>\n",
              "      <td>0.004667</td>\n",
              "      <td>(asparagus)</td>\n",
              "      <td>1</td>\n",
              "    </tr>\n",
              "    <tr>\n",
              "      <th>3</th>\n",
              "      <td>0.033200</td>\n",
              "      <td>(avocado)</td>\n",
              "      <td>1</td>\n",
              "    </tr>\n",
              "    <tr>\n",
              "      <th>4</th>\n",
              "      <td>0.004533</td>\n",
              "      <td>(babies food)</td>\n",
              "      <td>1</td>\n",
              "    </tr>\n",
              "    <tr>\n",
              "      <th>...</th>\n",
              "      <td>...</td>\n",
              "      <td>...</td>\n",
              "      <td>...</td>\n",
              "    </tr>\n",
              "    <tr>\n",
              "      <th>1437</th>\n",
              "      <td>0.003067</td>\n",
              "      <td>(mineral water, spaghetti, ground beef, pancakes)</td>\n",
              "      <td>4</td>\n",
              "    </tr>\n",
              "    <tr>\n",
              "      <th>1438</th>\n",
              "      <td>0.003067</td>\n",
              "      <td>(mineral water, ground beef, spaghetti, tomatoes)</td>\n",
              "      <td>4</td>\n",
              "    </tr>\n",
              "    <tr>\n",
              "      <th>1439</th>\n",
              "      <td>0.003333</td>\n",
              "      <td>(mineral water, olive oil, spaghetti, milk)</td>\n",
              "      <td>4</td>\n",
              "    </tr>\n",
              "    <tr>\n",
              "      <th>1440</th>\n",
              "      <td>0.003067</td>\n",
              "      <td>(mineral water, shrimp, spaghetti, milk)</td>\n",
              "      <td>4</td>\n",
              "    </tr>\n",
              "    <tr>\n",
              "      <th>1441</th>\n",
              "      <td>0.003333</td>\n",
              "      <td>(mineral water, spaghetti, milk, tomatoes)</td>\n",
              "      <td>4</td>\n",
              "    </tr>\n",
              "  </tbody>\n",
              "</table>\n",
              "<p>1442 rows × 3 columns</p>\n",
              "</div>"
            ],
            "text/plain": [
              "       support                                           itemsets  length\n",
              "0     0.020267                                          (almonds)       1\n",
              "1     0.008800                                (antioxydant juice)       1\n",
              "2     0.004667                                        (asparagus)       1\n",
              "3     0.033200                                          (avocado)       1\n",
              "4     0.004533                                      (babies food)       1\n",
              "...        ...                                                ...     ...\n",
              "1437  0.003067  (mineral water, spaghetti, ground beef, pancakes)       4\n",
              "1438  0.003067  (mineral water, ground beef, spaghetti, tomatoes)       4\n",
              "1439  0.003333        (mineral water, olive oil, spaghetti, milk)       4\n",
              "1440  0.003067           (mineral water, shrimp, spaghetti, milk)       4\n",
              "1441  0.003333         (mineral water, spaghetti, milk, tomatoes)       4\n",
              "\n",
              "[1442 rows x 3 columns]"
            ]
          },
          "metadata": {
            "tags": []
          },
          "execution_count": 42
        }
      ]
    },
    {
      "cell_type": "markdown",
      "metadata": {
        "id": "naC5zhAN0sVd"
      },
      "source": [
        "* generate **Association Rules** for apriori item set"
      ]
    },
    {
      "cell_type": "code",
      "metadata": {
        "colab": {
          "base_uri": "https://localhost:8080/",
          "height": 485
        },
        "id": "wJUyXeC90xZi",
        "outputId": "b1f46150-f88b-43b8-c507-9d99e351a786"
      },
      "source": [
        "Apriori_rules_confidence = association_rules(frequent_itemsets_apriori, \n",
        "                                             metric= \"confidence\", \n",
        "                                             min_threshold= 0.1)\n",
        "\n",
        "Apriori_rules_confidence[\"antecedent_len\"] = Apriori_rules_confidence[\"antecedents\"].apply(lambda x: len(x))\n",
        "Apriori_rules_confidence"
      ],
      "execution_count": 43,
      "outputs": [
        {
          "output_type": "execute_result",
          "data": {
            "text/html": [
              "<div>\n",
              "<style scoped>\n",
              "    .dataframe tbody tr th:only-of-type {\n",
              "        vertical-align: middle;\n",
              "    }\n",
              "\n",
              "    .dataframe tbody tr th {\n",
              "        vertical-align: top;\n",
              "    }\n",
              "\n",
              "    .dataframe thead th {\n",
              "        text-align: right;\n",
              "    }\n",
              "</style>\n",
              "<table border=\"1\" class=\"dataframe\">\n",
              "  <thead>\n",
              "    <tr style=\"text-align: right;\">\n",
              "      <th></th>\n",
              "      <th>antecedents</th>\n",
              "      <th>consequents</th>\n",
              "      <th>antecedent support</th>\n",
              "      <th>consequent support</th>\n",
              "      <th>support</th>\n",
              "      <th>confidence</th>\n",
              "      <th>lift</th>\n",
              "      <th>leverage</th>\n",
              "      <th>conviction</th>\n",
              "      <th>antecedent_len</th>\n",
              "    </tr>\n",
              "  </thead>\n",
              "  <tbody>\n",
              "    <tr>\n",
              "      <th>0</th>\n",
              "      <td>(almonds)</td>\n",
              "      <td>(burgers)</td>\n",
              "      <td>0.020267</td>\n",
              "      <td>0.087200</td>\n",
              "      <td>0.005200</td>\n",
              "      <td>0.256579</td>\n",
              "      <td>2.942419</td>\n",
              "      <td>0.003433</td>\n",
              "      <td>1.227837</td>\n",
              "      <td>1</td>\n",
              "    </tr>\n",
              "    <tr>\n",
              "      <th>1</th>\n",
              "      <td>(almonds)</td>\n",
              "      <td>(cake)</td>\n",
              "      <td>0.020267</td>\n",
              "      <td>0.081067</td>\n",
              "      <td>0.003067</td>\n",
              "      <td>0.151316</td>\n",
              "      <td>1.866560</td>\n",
              "      <td>0.001424</td>\n",
              "      <td>1.082774</td>\n",
              "      <td>1</td>\n",
              "    </tr>\n",
              "    <tr>\n",
              "      <th>2</th>\n",
              "      <td>(almonds)</td>\n",
              "      <td>(chocolate)</td>\n",
              "      <td>0.020267</td>\n",
              "      <td>0.163867</td>\n",
              "      <td>0.006000</td>\n",
              "      <td>0.296053</td>\n",
              "      <td>1.806668</td>\n",
              "      <td>0.002679</td>\n",
              "      <td>1.187778</td>\n",
              "      <td>1</td>\n",
              "    </tr>\n",
              "    <tr>\n",
              "      <th>3</th>\n",
              "      <td>(almonds)</td>\n",
              "      <td>(eggs)</td>\n",
              "      <td>0.020267</td>\n",
              "      <td>0.179733</td>\n",
              "      <td>0.006533</td>\n",
              "      <td>0.322368</td>\n",
              "      <td>1.793593</td>\n",
              "      <td>0.002891</td>\n",
              "      <td>1.210491</td>\n",
              "      <td>1</td>\n",
              "    </tr>\n",
              "    <tr>\n",
              "      <th>4</th>\n",
              "      <td>(almonds)</td>\n",
              "      <td>(french fries)</td>\n",
              "      <td>0.020267</td>\n",
              "      <td>0.170933</td>\n",
              "      <td>0.004400</td>\n",
              "      <td>0.217105</td>\n",
              "      <td>1.270117</td>\n",
              "      <td>0.000936</td>\n",
              "      <td>1.058976</td>\n",
              "      <td>1</td>\n",
              "    </tr>\n",
              "    <tr>\n",
              "      <th>...</th>\n",
              "      <td>...</td>\n",
              "      <td>...</td>\n",
              "      <td>...</td>\n",
              "      <td>...</td>\n",
              "      <td>...</td>\n",
              "      <td>...</td>\n",
              "      <td>...</td>\n",
              "      <td>...</td>\n",
              "      <td>...</td>\n",
              "      <td>...</td>\n",
              "    </tr>\n",
              "    <tr>\n",
              "      <th>2562</th>\n",
              "      <td>(mineral water, tomatoes, milk)</td>\n",
              "      <td>(spaghetti)</td>\n",
              "      <td>0.006533</td>\n",
              "      <td>0.174133</td>\n",
              "      <td>0.003333</td>\n",
              "      <td>0.510204</td>\n",
              "      <td>2.929962</td>\n",
              "      <td>0.002196</td>\n",
              "      <td>1.686144</td>\n",
              "      <td>3</td>\n",
              "    </tr>\n",
              "    <tr>\n",
              "      <th>2563</th>\n",
              "      <td>(spaghetti, tomatoes, milk)</td>\n",
              "      <td>(mineral water)</td>\n",
              "      <td>0.005867</td>\n",
              "      <td>0.238267</td>\n",
              "      <td>0.003333</td>\n",
              "      <td>0.568182</td>\n",
              "      <td>2.384647</td>\n",
              "      <td>0.001936</td>\n",
              "      <td>1.764014</td>\n",
              "      <td>3</td>\n",
              "    </tr>\n",
              "    <tr>\n",
              "      <th>2564</th>\n",
              "      <td>(mineral water, tomatoes)</td>\n",
              "      <td>(spaghetti, milk)</td>\n",
              "      <td>0.024400</td>\n",
              "      <td>0.035467</td>\n",
              "      <td>0.003333</td>\n",
              "      <td>0.136612</td>\n",
              "      <td>3.851843</td>\n",
              "      <td>0.002468</td>\n",
              "      <td>1.117149</td>\n",
              "      <td>2</td>\n",
              "    </tr>\n",
              "    <tr>\n",
              "      <th>2565</th>\n",
              "      <td>(spaghetti, tomatoes)</td>\n",
              "      <td>(mineral water, milk)</td>\n",
              "      <td>0.020933</td>\n",
              "      <td>0.048000</td>\n",
              "      <td>0.003333</td>\n",
              "      <td>0.159236</td>\n",
              "      <td>3.317410</td>\n",
              "      <td>0.002329</td>\n",
              "      <td>1.132303</td>\n",
              "      <td>2</td>\n",
              "    </tr>\n",
              "    <tr>\n",
              "      <th>2566</th>\n",
              "      <td>(tomatoes, milk)</td>\n",
              "      <td>(mineral water, spaghetti)</td>\n",
              "      <td>0.014000</td>\n",
              "      <td>0.059733</td>\n",
              "      <td>0.003333</td>\n",
              "      <td>0.238095</td>\n",
              "      <td>3.985969</td>\n",
              "      <td>0.002497</td>\n",
              "      <td>1.234100</td>\n",
              "      <td>2</td>\n",
              "    </tr>\n",
              "  </tbody>\n",
              "</table>\n",
              "<p>2567 rows × 10 columns</p>\n",
              "</div>"
            ],
            "text/plain": [
              "                          antecedents  ... antecedent_len\n",
              "0                           (almonds)  ...              1\n",
              "1                           (almonds)  ...              1\n",
              "2                           (almonds)  ...              1\n",
              "3                           (almonds)  ...              1\n",
              "4                           (almonds)  ...              1\n",
              "...                               ...  ...            ...\n",
              "2562  (mineral water, tomatoes, milk)  ...              3\n",
              "2563      (spaghetti, tomatoes, milk)  ...              3\n",
              "2564        (mineral water, tomatoes)  ...              2\n",
              "2565            (spaghetti, tomatoes)  ...              2\n",
              "2566                 (tomatoes, milk)  ...              2\n",
              "\n",
              "[2567 rows x 10 columns]"
            ]
          },
          "metadata": {
            "tags": []
          },
          "execution_count": 43
        }
      ]
    },
    {
      "cell_type": "code",
      "metadata": {
        "colab": {
          "base_uri": "https://localhost:8080/"
        },
        "id": "fO8Qo_R-Bske",
        "outputId": "4722a870-56fe-481b-cd70-aeb025a3b52e"
      },
      "source": [
        "frequent_itemsets_apriori['length']"
      ],
      "execution_count": 49,
      "outputs": [
        {
          "output_type": "execute_result",
          "data": {
            "text/plain": [
              "0       1\n",
              "1       1\n",
              "2       1\n",
              "3       1\n",
              "4       1\n",
              "       ..\n",
              "1437    4\n",
              "1438    4\n",
              "1439    4\n",
              "1440    4\n",
              "1441    4\n",
              "Name: length, Length: 1442, dtype: int64"
            ]
          },
          "metadata": {
            "tags": []
          },
          "execution_count": 49
        }
      ]
    },
    {
      "cell_type": "code",
      "metadata": {
        "colab": {
          "base_uri": "https://localhost:8080/",
          "height": 601
        },
        "id": "6SJCFQXzBuGv",
        "outputId": "dca42021-418b-495b-be30-4850c4b6d262"
      },
      "source": [
        "\n",
        "# length = 2 ==> mean 2 items in the itemset \n",
        "frequent_itemsets_apriori [ (frequent_itemsets_apriori['length'] == 2) & (frequent_itemsets_apriori['support'] >=0.03) ]"
      ],
      "execution_count": 54,
      "outputs": [
        {
          "output_type": "execute_result",
          "data": {
            "text/html": [
              "<div>\n",
              "<style scoped>\n",
              "    .dataframe tbody tr th:only-of-type {\n",
              "        vertical-align: middle;\n",
              "    }\n",
              "\n",
              "    .dataframe tbody tr th {\n",
              "        vertical-align: top;\n",
              "    }\n",
              "\n",
              "    .dataframe thead th {\n",
              "        text-align: right;\n",
              "    }\n",
              "</style>\n",
              "<table border=\"1\" class=\"dataframe\">\n",
              "  <thead>\n",
              "    <tr style=\"text-align: right;\">\n",
              "      <th></th>\n",
              "      <th>support</th>\n",
              "      <th>itemsets</th>\n",
              "      <th>length</th>\n",
              "    </tr>\n",
              "  </thead>\n",
              "  <tbody>\n",
              "    <tr>\n",
              "      <th>333</th>\n",
              "      <td>0.033200</td>\n",
              "      <td>(chocolate, eggs)</td>\n",
              "      <td>2</td>\n",
              "    </tr>\n",
              "    <tr>\n",
              "      <th>337</th>\n",
              "      <td>0.034400</td>\n",
              "      <td>(chocolate, french fries)</td>\n",
              "      <td>2</td>\n",
              "    </tr>\n",
              "    <tr>\n",
              "      <th>354</th>\n",
              "      <td>0.032133</td>\n",
              "      <td>(chocolate, milk)</td>\n",
              "      <td>2</td>\n",
              "    </tr>\n",
              "    <tr>\n",
              "      <th>355</th>\n",
              "      <td>0.052667</td>\n",
              "      <td>(chocolate, mineral water)</td>\n",
              "      <td>2</td>\n",
              "    </tr>\n",
              "    <tr>\n",
              "      <th>370</th>\n",
              "      <td>0.039200</td>\n",
              "      <td>(chocolate, spaghetti)</td>\n",
              "      <td>2</td>\n",
              "    </tr>\n",
              "    <tr>\n",
              "      <th>434</th>\n",
              "      <td>0.036400</td>\n",
              "      <td>(eggs, french fries)</td>\n",
              "      <td>2</td>\n",
              "    </tr>\n",
              "    <tr>\n",
              "      <th>452</th>\n",
              "      <td>0.030800</td>\n",
              "      <td>(eggs, milk)</td>\n",
              "      <td>2</td>\n",
              "    </tr>\n",
              "    <tr>\n",
              "      <th>453</th>\n",
              "      <td>0.050933</td>\n",
              "      <td>(mineral water, eggs)</td>\n",
              "      <td>2</td>\n",
              "    </tr>\n",
              "    <tr>\n",
              "      <th>467</th>\n",
              "      <td>0.036533</td>\n",
              "      <td>(spaghetti, eggs)</td>\n",
              "      <td>2</td>\n",
              "    </tr>\n",
              "    <tr>\n",
              "      <th>531</th>\n",
              "      <td>0.033733</td>\n",
              "      <td>(mineral water, french fries)</td>\n",
              "      <td>2</td>\n",
              "    </tr>\n",
              "    <tr>\n",
              "      <th>621</th>\n",
              "      <td>0.035733</td>\n",
              "      <td>(mineral water, frozen vegetables)</td>\n",
              "      <td>2</td>\n",
              "    </tr>\n",
              "    <tr>\n",
              "      <th>663</th>\n",
              "      <td>0.030933</td>\n",
              "      <td>(mineral water, green tea)</td>\n",
              "      <td>2</td>\n",
              "    </tr>\n",
              "    <tr>\n",
              "      <th>691</th>\n",
              "      <td>0.040933</td>\n",
              "      <td>(mineral water, ground beef)</td>\n",
              "      <td>2</td>\n",
              "    </tr>\n",
              "    <tr>\n",
              "      <th>703</th>\n",
              "      <td>0.039200</td>\n",
              "      <td>(spaghetti, ground beef)</td>\n",
              "      <td>2</td>\n",
              "    </tr>\n",
              "    <tr>\n",
              "      <th>776</th>\n",
              "      <td>0.048000</td>\n",
              "      <td>(mineral water, milk)</td>\n",
              "      <td>2</td>\n",
              "    </tr>\n",
              "    <tr>\n",
              "      <th>788</th>\n",
              "      <td>0.035467</td>\n",
              "      <td>(spaghetti, milk)</td>\n",
              "      <td>2</td>\n",
              "    </tr>\n",
              "    <tr>\n",
              "      <th>802</th>\n",
              "      <td>0.033733</td>\n",
              "      <td>(mineral water, pancakes)</td>\n",
              "      <td>2</td>\n",
              "    </tr>\n",
              "    <tr>\n",
              "      <th>811</th>\n",
              "      <td>0.059733</td>\n",
              "      <td>(mineral water, spaghetti)</td>\n",
              "      <td>2</td>\n",
              "    </tr>\n",
              "  </tbody>\n",
              "</table>\n",
              "</div>"
            ],
            "text/plain": [
              "      support                            itemsets  length\n",
              "333  0.033200                   (chocolate, eggs)       2\n",
              "337  0.034400           (chocolate, french fries)       2\n",
              "354  0.032133                   (chocolate, milk)       2\n",
              "355  0.052667          (chocolate, mineral water)       2\n",
              "370  0.039200              (chocolate, spaghetti)       2\n",
              "434  0.036400                (eggs, french fries)       2\n",
              "452  0.030800                        (eggs, milk)       2\n",
              "453  0.050933               (mineral water, eggs)       2\n",
              "467  0.036533                   (spaghetti, eggs)       2\n",
              "531  0.033733       (mineral water, french fries)       2\n",
              "621  0.035733  (mineral water, frozen vegetables)       2\n",
              "663  0.030933          (mineral water, green tea)       2\n",
              "691  0.040933        (mineral water, ground beef)       2\n",
              "703  0.039200            (spaghetti, ground beef)       2\n",
              "776  0.048000               (mineral water, milk)       2\n",
              "788  0.035467                   (spaghetti, milk)       2\n",
              "802  0.033733           (mineral water, pancakes)       2\n",
              "811  0.059733          (mineral water, spaghetti)       2"
            ]
          },
          "metadata": {
            "tags": []
          },
          "execution_count": 54
        }
      ]
    },
    {
      "cell_type": "markdown",
      "metadata": {
        "id": "C_wv12iF1nCy"
      },
      "source": [
        "* it's nice to identify rules that have a high **support**,\n",
        "* here we have high support with: \n",
        "    + spaguetti, mineral water\n",
        "    + choclaten mineral water,\n",
        "    + eggs, mineral water"
      ]
    },
    {
      "cell_type": "markdown",
      "metadata": {
        "id": "DScHqVJs2Qqh"
      },
      "source": [
        "* **Association Mining**"
      ]
    },
    {
      "cell_type": "code",
      "metadata": {
        "colab": {
          "base_uri": "https://localhost:8080/",
          "height": 79
        },
        "id": "X9jDamYx2JZX",
        "outputId": "7e9a5b13-bdab-4732-ddf0-1a9742884150"
      },
      "source": [
        "frequent_itemsets_apriori[ frequent_itemsets_apriori['itemsets'] == {'eggs', 'mineral water'} ]"
      ],
      "execution_count": 55,
      "outputs": [
        {
          "output_type": "execute_result",
          "data": {
            "text/html": [
              "<div>\n",
              "<style scoped>\n",
              "    .dataframe tbody tr th:only-of-type {\n",
              "        vertical-align: middle;\n",
              "    }\n",
              "\n",
              "    .dataframe tbody tr th {\n",
              "        vertical-align: top;\n",
              "    }\n",
              "\n",
              "    .dataframe thead th {\n",
              "        text-align: right;\n",
              "    }\n",
              "</style>\n",
              "<table border=\"1\" class=\"dataframe\">\n",
              "  <thead>\n",
              "    <tr style=\"text-align: right;\">\n",
              "      <th></th>\n",
              "      <th>support</th>\n",
              "      <th>itemsets</th>\n",
              "      <th>length</th>\n",
              "    </tr>\n",
              "  </thead>\n",
              "  <tbody>\n",
              "    <tr>\n",
              "      <th>453</th>\n",
              "      <td>0.050933</td>\n",
              "      <td>(mineral water, eggs)</td>\n",
              "      <td>2</td>\n",
              "    </tr>\n",
              "  </tbody>\n",
              "</table>\n",
              "</div>"
            ],
            "text/plain": [
              "      support               itemsets  length\n",
              "453  0.050933  (mineral water, eggs)       2"
            ]
          },
          "metadata": {
            "tags": []
          },
          "execution_count": 55
        }
      ]
    },
    {
      "cell_type": "code",
      "metadata": {
        "colab": {
          "base_uri": "https://localhost:8080/",
          "height": 79
        },
        "id": "jmFZVfRK2WMT",
        "outputId": "21872e3a-ec7a-4f3e-e5d1-77d3f72099b2"
      },
      "source": [
        "frequent_itemsets_apriori[ frequent_itemsets_apriori['itemsets'] == {'spaghetti', 'mineral water'} ]"
      ],
      "execution_count": 56,
      "outputs": [
        {
          "output_type": "execute_result",
          "data": {
            "text/html": [
              "<div>\n",
              "<style scoped>\n",
              "    .dataframe tbody tr th:only-of-type {\n",
              "        vertical-align: middle;\n",
              "    }\n",
              "\n",
              "    .dataframe tbody tr th {\n",
              "        vertical-align: top;\n",
              "    }\n",
              "\n",
              "    .dataframe thead th {\n",
              "        text-align: right;\n",
              "    }\n",
              "</style>\n",
              "<table border=\"1\" class=\"dataframe\">\n",
              "  <thead>\n",
              "    <tr style=\"text-align: right;\">\n",
              "      <th></th>\n",
              "      <th>support</th>\n",
              "      <th>itemsets</th>\n",
              "      <th>length</th>\n",
              "    </tr>\n",
              "  </thead>\n",
              "  <tbody>\n",
              "    <tr>\n",
              "      <th>811</th>\n",
              "      <td>0.059733</td>\n",
              "      <td>(mineral water, spaghetti)</td>\n",
              "      <td>2</td>\n",
              "    </tr>\n",
              "  </tbody>\n",
              "</table>\n",
              "</div>"
            ],
            "text/plain": [
              "      support                    itemsets  length\n",
              "811  0.059733  (mineral water, spaghetti)       2"
            ]
          },
          "metadata": {
            "tags": []
          },
          "execution_count": 56
        }
      ]
    },
    {
      "cell_type": "code",
      "metadata": {
        "colab": {
          "base_uri": "https://localhost:8080/",
          "height": 79
        },
        "id": "jqXGrvjp2dZF",
        "outputId": "a75ce06f-7a82-4677-bf3d-77cbf2cd7d4f"
      },
      "source": [
        "frequent_itemsets_apriori[ frequent_itemsets_apriori['itemsets'] == {'chocolate', 'mineral water'} ]"
      ],
      "execution_count": 57,
      "outputs": [
        {
          "output_type": "execute_result",
          "data": {
            "text/html": [
              "<div>\n",
              "<style scoped>\n",
              "    .dataframe tbody tr th:only-of-type {\n",
              "        vertical-align: middle;\n",
              "    }\n",
              "\n",
              "    .dataframe tbody tr th {\n",
              "        vertical-align: top;\n",
              "    }\n",
              "\n",
              "    .dataframe thead th {\n",
              "        text-align: right;\n",
              "    }\n",
              "</style>\n",
              "<table border=\"1\" class=\"dataframe\">\n",
              "  <thead>\n",
              "    <tr style=\"text-align: right;\">\n",
              "      <th></th>\n",
              "      <th>support</th>\n",
              "      <th>itemsets</th>\n",
              "      <th>length</th>\n",
              "    </tr>\n",
              "  </thead>\n",
              "  <tbody>\n",
              "    <tr>\n",
              "      <th>355</th>\n",
              "      <td>0.052667</td>\n",
              "      <td>(chocolate, mineral water)</td>\n",
              "      <td>2</td>\n",
              "    </tr>\n",
              "  </tbody>\n",
              "</table>\n",
              "</div>"
            ],
            "text/plain": [
              "      support                    itemsets  length\n",
              "355  0.052667  (chocolate, mineral water)       2"
            ]
          },
          "metadata": {
            "tags": []
          },
          "execution_count": 57
        }
      ]
    },
    {
      "cell_type": "markdown",
      "metadata": {
        "id": "VDOW2s252nhU"
      },
      "source": [
        "* The support count for eggs & mineral water together is 5%, and also for choclate & mineral water.\n",
        "* the support count almost 6% for spaghetti, mineral water"
      ]
    },
    {
      "cell_type": "code",
      "metadata": {
        "colab": {
          "base_uri": "https://localhost:8080/",
          "height": 79
        },
        "id": "Lx28qcDZ24U7",
        "outputId": "4d2f45da-577e-4437-c8a0-1033db9a3b33"
      },
      "source": [
        "frequent_itemsets_apriori[ frequent_itemsets_apriori['itemsets'] == {'mineral water'} ]"
      ],
      "execution_count": 58,
      "outputs": [
        {
          "output_type": "execute_result",
          "data": {
            "text/html": [
              "<div>\n",
              "<style scoped>\n",
              "    .dataframe tbody tr th:only-of-type {\n",
              "        vertical-align: middle;\n",
              "    }\n",
              "\n",
              "    .dataframe tbody tr th {\n",
              "        vertical-align: top;\n",
              "    }\n",
              "\n",
              "    .dataframe thead th {\n",
              "        text-align: right;\n",
              "    }\n",
              "</style>\n",
              "<table border=\"1\" class=\"dataframe\">\n",
              "  <thead>\n",
              "    <tr style=\"text-align: right;\">\n",
              "      <th></th>\n",
              "      <th>support</th>\n",
              "      <th>itemsets</th>\n",
              "      <th>length</th>\n",
              "    </tr>\n",
              "  </thead>\n",
              "  <tbody>\n",
              "    <tr>\n",
              "      <th>69</th>\n",
              "      <td>0.238267</td>\n",
              "      <td>(mineral water)</td>\n",
              "      <td>1</td>\n",
              "    </tr>\n",
              "  </tbody>\n",
              "</table>\n",
              "</div>"
            ],
            "text/plain": [
              "     support         itemsets  length\n",
              "69  0.238267  (mineral water)       1"
            ]
          },
          "metadata": {
            "tags": []
          },
          "execution_count": 58
        }
      ]
    },
    {
      "cell_type": "markdown",
      "metadata": {
        "id": "9mSVd_Te3Jta"
      },
      "source": [
        "* The support count for a client ==> buys mineral water **is quite high** with almost 24%"
      ]
    },
    {
      "cell_type": "markdown",
      "metadata": {
        "id": "EUHfXyFk3wK7"
      },
      "source": [
        "association rules with lift"
      ]
    },
    {
      "cell_type": "code",
      "metadata": {
        "colab": {
          "base_uri": "https://localhost:8080/",
          "height": 485
        },
        "id": "WkBeuHHZ4Qxb",
        "outputId": "0bea234a-3478-4fd5-fbd8-9875b2a13ba0"
      },
      "source": [
        "Apriori_rules_lift = association_rules(frequent_itemsets_apriori, \n",
        "                                             metric= \"lift\", \n",
        "                                             min_threshold= 1.1)\n",
        "\n",
        "Apriori_rules_lift[\"antecedent_len\"] = Apriori_rules_lift[\"antecedents\"].apply(lambda x: len(x))\n",
        "Apriori_rules_lift\n",
        "\n",
        "#threshold > 1 is good"
      ],
      "execution_count": 62,
      "outputs": [
        {
          "output_type": "execute_result",
          "data": {
            "text/html": [
              "<div>\n",
              "<style scoped>\n",
              "    .dataframe tbody tr th:only-of-type {\n",
              "        vertical-align: middle;\n",
              "    }\n",
              "\n",
              "    .dataframe tbody tr th {\n",
              "        vertical-align: top;\n",
              "    }\n",
              "\n",
              "    .dataframe thead th {\n",
              "        text-align: right;\n",
              "    }\n",
              "</style>\n",
              "<table border=\"1\" class=\"dataframe\">\n",
              "  <thead>\n",
              "    <tr style=\"text-align: right;\">\n",
              "      <th></th>\n",
              "      <th>antecedents</th>\n",
              "      <th>consequents</th>\n",
              "      <th>antecedent support</th>\n",
              "      <th>consequent support</th>\n",
              "      <th>support</th>\n",
              "      <th>confidence</th>\n",
              "      <th>lift</th>\n",
              "      <th>leverage</th>\n",
              "      <th>conviction</th>\n",
              "      <th>antecedent_len</th>\n",
              "    </tr>\n",
              "  </thead>\n",
              "  <tbody>\n",
              "    <tr>\n",
              "      <th>0</th>\n",
              "      <td>(almonds)</td>\n",
              "      <td>(burgers)</td>\n",
              "      <td>0.020267</td>\n",
              "      <td>0.087200</td>\n",
              "      <td>0.005200</td>\n",
              "      <td>0.256579</td>\n",
              "      <td>2.942419</td>\n",
              "      <td>0.003433</td>\n",
              "      <td>1.227837</td>\n",
              "      <td>1</td>\n",
              "    </tr>\n",
              "    <tr>\n",
              "      <th>1</th>\n",
              "      <td>(burgers)</td>\n",
              "      <td>(almonds)</td>\n",
              "      <td>0.087200</td>\n",
              "      <td>0.020267</td>\n",
              "      <td>0.005200</td>\n",
              "      <td>0.059633</td>\n",
              "      <td>2.942419</td>\n",
              "      <td>0.003433</td>\n",
              "      <td>1.041863</td>\n",
              "      <td>1</td>\n",
              "    </tr>\n",
              "    <tr>\n",
              "      <th>2</th>\n",
              "      <td>(cake)</td>\n",
              "      <td>(almonds)</td>\n",
              "      <td>0.081067</td>\n",
              "      <td>0.020267</td>\n",
              "      <td>0.003067</td>\n",
              "      <td>0.037829</td>\n",
              "      <td>1.866560</td>\n",
              "      <td>0.001424</td>\n",
              "      <td>1.018253</td>\n",
              "      <td>1</td>\n",
              "    </tr>\n",
              "    <tr>\n",
              "      <th>3</th>\n",
              "      <td>(almonds)</td>\n",
              "      <td>(cake)</td>\n",
              "      <td>0.020267</td>\n",
              "      <td>0.081067</td>\n",
              "      <td>0.003067</td>\n",
              "      <td>0.151316</td>\n",
              "      <td>1.866560</td>\n",
              "      <td>0.001424</td>\n",
              "      <td>1.082774</td>\n",
              "      <td>1</td>\n",
              "    </tr>\n",
              "    <tr>\n",
              "      <th>4</th>\n",
              "      <td>(chocolate)</td>\n",
              "      <td>(almonds)</td>\n",
              "      <td>0.163867</td>\n",
              "      <td>0.020267</td>\n",
              "      <td>0.006000</td>\n",
              "      <td>0.036615</td>\n",
              "      <td>1.806668</td>\n",
              "      <td>0.002679</td>\n",
              "      <td>1.016970</td>\n",
              "      <td>1</td>\n",
              "    </tr>\n",
              "    <tr>\n",
              "      <th>...</th>\n",
              "      <td>...</td>\n",
              "      <td>...</td>\n",
              "      <td>...</td>\n",
              "      <td>...</td>\n",
              "      <td>...</td>\n",
              "      <td>...</td>\n",
              "      <td>...</td>\n",
              "      <td>...</td>\n",
              "      <td>...</td>\n",
              "      <td>...</td>\n",
              "    </tr>\n",
              "    <tr>\n",
              "      <th>4701</th>\n",
              "      <td>(tomatoes, milk)</td>\n",
              "      <td>(mineral water, spaghetti)</td>\n",
              "      <td>0.014000</td>\n",
              "      <td>0.059733</td>\n",
              "      <td>0.003333</td>\n",
              "      <td>0.238095</td>\n",
              "      <td>3.985969</td>\n",
              "      <td>0.002497</td>\n",
              "      <td>1.234100</td>\n",
              "      <td>2</td>\n",
              "    </tr>\n",
              "    <tr>\n",
              "      <th>4702</th>\n",
              "      <td>(mineral water)</td>\n",
              "      <td>(spaghetti, tomatoes, milk)</td>\n",
              "      <td>0.238267</td>\n",
              "      <td>0.005867</td>\n",
              "      <td>0.003333</td>\n",
              "      <td>0.013990</td>\n",
              "      <td>2.384647</td>\n",
              "      <td>0.001936</td>\n",
              "      <td>1.008239</td>\n",
              "      <td>1</td>\n",
              "    </tr>\n",
              "    <tr>\n",
              "      <th>4703</th>\n",
              "      <td>(spaghetti)</td>\n",
              "      <td>(mineral water, tomatoes, milk)</td>\n",
              "      <td>0.174133</td>\n",
              "      <td>0.006533</td>\n",
              "      <td>0.003333</td>\n",
              "      <td>0.019142</td>\n",
              "      <td>2.929962</td>\n",
              "      <td>0.002196</td>\n",
              "      <td>1.012855</td>\n",
              "      <td>1</td>\n",
              "    </tr>\n",
              "    <tr>\n",
              "      <th>4704</th>\n",
              "      <td>(milk)</td>\n",
              "      <td>(mineral water, spaghetti, tomatoes)</td>\n",
              "      <td>0.129600</td>\n",
              "      <td>0.009333</td>\n",
              "      <td>0.003333</td>\n",
              "      <td>0.025720</td>\n",
              "      <td>2.755732</td>\n",
              "      <td>0.002124</td>\n",
              "      <td>1.016819</td>\n",
              "      <td>1</td>\n",
              "    </tr>\n",
              "    <tr>\n",
              "      <th>4705</th>\n",
              "      <td>(tomatoes)</td>\n",
              "      <td>(mineral water, spaghetti, milk)</td>\n",
              "      <td>0.068400</td>\n",
              "      <td>0.015733</td>\n",
              "      <td>0.003333</td>\n",
              "      <td>0.048733</td>\n",
              "      <td>3.097433</td>\n",
              "      <td>0.002257</td>\n",
              "      <td>1.034690</td>\n",
              "      <td>1</td>\n",
              "    </tr>\n",
              "  </tbody>\n",
              "</table>\n",
              "<p>4706 rows × 10 columns</p>\n",
              "</div>"
            ],
            "text/plain": [
              "           antecedents  ... antecedent_len\n",
              "0            (almonds)  ...              1\n",
              "1            (burgers)  ...              1\n",
              "2               (cake)  ...              1\n",
              "3            (almonds)  ...              1\n",
              "4          (chocolate)  ...              1\n",
              "...                ...  ...            ...\n",
              "4701  (tomatoes, milk)  ...              2\n",
              "4702   (mineral water)  ...              1\n",
              "4703       (spaghetti)  ...              1\n",
              "4704            (milk)  ...              1\n",
              "4705        (tomatoes)  ...              1\n",
              "\n",
              "[4706 rows x 10 columns]"
            ]
          },
          "metadata": {
            "tags": []
          },
          "execution_count": 62
        }
      ]
    },
    {
      "cell_type": "markdown",
      "metadata": {
        "id": "ilzz3PPa5Mvc"
      },
      "source": [
        "* visualize apriori most consequent"
      ]
    },
    {
      "cell_type": "code",
      "metadata": {
        "colab": {
          "base_uri": "https://localhost:8080/",
          "height": 829
        },
        "id": "mlJMbJOQ5QD6",
        "outputId": "d385d7c7-c90a-4595-f1c2-1c6129bd61ee"
      },
      "source": [
        "fig, ax1 = plt.subplots()\n",
        "fig.suptitle('Apriori Top 15 Consequents')\n",
        "Apriori_rules_confidence[\"consequents\"].value_counts()[:15].plot(kind='bar', \n",
        "                                                                 colormap = 'RdYlBu' , \n",
        "                                                                 ax=ax1, \n",
        "                                                                 ylabel='Number of Rules')\n",
        "\n"
      ],
      "execution_count": null,
      "outputs": [
        {
          "output_type": "execute_result",
          "data": {
            "text/plain": [
              "<matplotlib.axes._subplots.AxesSubplot at 0x7f48280d86d0>"
            ]
          },
          "metadata": {
            "tags": []
          },
          "execution_count": 225
        },
        {
          "output_type": "display_data",
          "data": {
            "image/png": "[encoded data removed]",
            "text/plain": [
              "<Figure size 1080x792 with 1 Axes>"
            ]
          },
          "metadata": {
            "tags": [],
            "needs_background": "light"
          }
        }
      ]
    },
    {
      "cell_type": "markdown",
      "metadata": {
        "id": "VNbb78T96zwO"
      },
      "source": [
        "visualize apriori most antecedents"
      ]
    },
    {
      "cell_type": "code",
      "metadata": {
        "colab": {
          "base_uri": "https://localhost:8080/",
          "height": 725
        },
        "id": "nBSXkzp76xa2",
        "outputId": "37e9df4e-5753-4c78-8301-29ef27ef2338"
      },
      "source": [
        "plt.rcParams['figure.figsize'] = (15, 11)\n",
        "fig, ax1 = plt.subplots()\n",
        "fig.suptitle('Apriori Top 15 Antecedents')\n",
        "Apriori_rules_confidence[\"antecedents\"].value_counts()[:15].plot(kind='pie', \n",
        "                                                                 colormap = 'jet' , \n",
        "                                                                 ax=ax1, \n",
        "                                                                 ylabel='Number of Rules')\n",
        "plt.legend(loc = \"upper right\")"
      ],
      "execution_count": null,
      "outputs": [
        {
          "output_type": "execute_result",
          "data": {
            "text/plain": [
              "<matplotlib.legend.Legend at 0x7f482b431ed0>"
            ]
          },
          "metadata": {
            "tags": []
          },
          "execution_count": 226
        },
        {
          "output_type": "display_data",
          "data": {
            "image/png": "[encoded data removed]",
            "text/plain": [
              "<Figure size 1080x792 with 1 Axes>"
            ]
          },
          "metadata": {
            "tags": []
          }
        }
      ]
    },
    {
      "cell_type": "markdown",
      "metadata": {
        "id": "fOSnPtfQ-U-X"
      },
      "source": [
        "#apriori statistics"
      ]
    },
    {
      "cell_type": "code",
      "metadata": {
        "colab": {
          "base_uri": "https://localhost:8080/",
          "height": 435
        },
        "id": "3MhK3S8t71wt",
        "outputId": "a1fe1d98-5fe7-4d34-99a3-72626cac5f83"
      },
      "source": [
        "plt.rcParams['figure.figsize'] = (10,6)\n",
        "fig, (ax1, ax2) = plt.subplots(1, 2)\n",
        "fig.suptitle('Apriori Statistics', \n",
        "             fontsize = 18,\n",
        "             color= \"darkblue\")\n",
        "\n",
        "# confidence metric\n",
        "Apriori_rules_confidence.confidence.plot(kind='hist', \n",
        "                                         ax= ax1, \n",
        "                                         title = 'Confidence', \n",
        "                                         colormap = 'Set3')\n",
        "\n",
        "# Lift metric\n",
        "Apriori_rules_confidence.lift.plot(kind='hist', \n",
        "                                   ax= ax2, \n",
        "                                   title = 'Lift', \n",
        "                                   colormap = 'tab20')"
      ],
      "execution_count": null,
      "outputs": [
        {
          "output_type": "execute_result",
          "data": {
            "text/plain": [
              "<matplotlib.axes._subplots.AxesSubplot at 0x7f482afd58d0>"
            ]
          },
          "metadata": {
            "tags": []
          },
          "execution_count": 237
        },
        {
          "output_type": "display_data",
          "data": {
            "image/png": "[encoded data removed]",
            "text/plain": [
              "<Figure size 720x432 with 2 Axes>"
            ]
          },
          "metadata": {
            "tags": [],
            "needs_background": "light"
          }
        }
      ]
    },
    {
      "cell_type": "markdown",
      "metadata": {
        "id": "9c5ntHRPBUBU"
      },
      "source": [
        "* **Confidence** is distributed around **0 to 0.6** and **Lift** is distributed around **0.2 to 4**"
      ]
    },
    {
      "cell_type": "markdown",
      "metadata": {
        "id": "wGdBf6AICQRz"
      },
      "source": [
        "# Let's resume results and being clear"
      ]
    },
    {
      "cell_type": "markdown",
      "metadata": {
        "id": "MzasH3vUD55X"
      },
      "source": [
        "1. first let's return items and ietmsets with at least 5% support :\n"
      ]
    },
    {
      "cell_type": "code",
      "metadata": {
        "id": "56y_LVS8CZ__"
      },
      "source": [
        "freq_items1 = apriori(data,\n",
        "                      min_support = 0.05,\n",
        "                      use_colnames = True)"
      ],
      "execution_count": 63,
      "outputs": []
    },
    {
      "cell_type": "code",
      "metadata": {
        "colab": {
          "base_uri": "https://localhost:8080/",
          "height": 907
        },
        "id": "ez8bmCxLEpfZ",
        "outputId": "d10995ac-b030-447e-f9a8-def1523b1b07"
      },
      "source": [
        "# display the first frequent itemsets with different lenght (one or more products)\n",
        "freq_items1"
      ],
      "execution_count": 64,
      "outputs": [
        {
          "output_type": "execute_result",
          "data": {
            "text/html": [
              "<div>\n",
              "<style scoped>\n",
              "    .dataframe tbody tr th:only-of-type {\n",
              "        vertical-align: middle;\n",
              "    }\n",
              "\n",
              "    .dataframe tbody tr th {\n",
              "        vertical-align: top;\n",
              "    }\n",
              "\n",
              "    .dataframe thead th {\n",
              "        text-align: right;\n",
              "    }\n",
              "</style>\n",
              "<table border=\"1\" class=\"dataframe\">\n",
              "  <thead>\n",
              "    <tr style=\"text-align: right;\">\n",
              "      <th></th>\n",
              "      <th>support</th>\n",
              "      <th>itemsets</th>\n",
              "    </tr>\n",
              "  </thead>\n",
              "  <tbody>\n",
              "    <tr>\n",
              "      <th>0</th>\n",
              "      <td>0.087200</td>\n",
              "      <td>(burgers)</td>\n",
              "    </tr>\n",
              "    <tr>\n",
              "      <th>1</th>\n",
              "      <td>0.081067</td>\n",
              "      <td>(cake)</td>\n",
              "    </tr>\n",
              "    <tr>\n",
              "      <th>2</th>\n",
              "      <td>0.060000</td>\n",
              "      <td>(chicken)</td>\n",
              "    </tr>\n",
              "    <tr>\n",
              "      <th>3</th>\n",
              "      <td>0.163867</td>\n",
              "      <td>(chocolate)</td>\n",
              "    </tr>\n",
              "    <tr>\n",
              "      <th>4</th>\n",
              "      <td>0.080400</td>\n",
              "      <td>(cookies)</td>\n",
              "    </tr>\n",
              "    <tr>\n",
              "      <th>5</th>\n",
              "      <td>0.051067</td>\n",
              "      <td>(cooking oil)</td>\n",
              "    </tr>\n",
              "    <tr>\n",
              "      <th>6</th>\n",
              "      <td>0.179733</td>\n",
              "      <td>(eggs)</td>\n",
              "    </tr>\n",
              "    <tr>\n",
              "      <th>7</th>\n",
              "      <td>0.079333</td>\n",
              "      <td>(escalope)</td>\n",
              "    </tr>\n",
              "    <tr>\n",
              "      <th>8</th>\n",
              "      <td>0.170933</td>\n",
              "      <td>(french fries)</td>\n",
              "    </tr>\n",
              "    <tr>\n",
              "      <th>9</th>\n",
              "      <td>0.063200</td>\n",
              "      <td>(frozen smoothie)</td>\n",
              "    </tr>\n",
              "    <tr>\n",
              "      <th>10</th>\n",
              "      <td>0.095333</td>\n",
              "      <td>(frozen vegetables)</td>\n",
              "    </tr>\n",
              "    <tr>\n",
              "      <th>11</th>\n",
              "      <td>0.052400</td>\n",
              "      <td>(grated cheese)</td>\n",
              "    </tr>\n",
              "    <tr>\n",
              "      <th>12</th>\n",
              "      <td>0.132000</td>\n",
              "      <td>(green tea)</td>\n",
              "    </tr>\n",
              "    <tr>\n",
              "      <th>13</th>\n",
              "      <td>0.098267</td>\n",
              "      <td>(ground beef)</td>\n",
              "    </tr>\n",
              "    <tr>\n",
              "      <th>14</th>\n",
              "      <td>0.076400</td>\n",
              "      <td>(low fat yogurt)</td>\n",
              "    </tr>\n",
              "    <tr>\n",
              "      <th>15</th>\n",
              "      <td>0.129600</td>\n",
              "      <td>(milk)</td>\n",
              "    </tr>\n",
              "    <tr>\n",
              "      <th>16</th>\n",
              "      <td>0.238267</td>\n",
              "      <td>(mineral water)</td>\n",
              "    </tr>\n",
              "    <tr>\n",
              "      <th>17</th>\n",
              "      <td>0.065733</td>\n",
              "      <td>(olive oil)</td>\n",
              "    </tr>\n",
              "    <tr>\n",
              "      <th>18</th>\n",
              "      <td>0.095067</td>\n",
              "      <td>(pancakes)</td>\n",
              "    </tr>\n",
              "    <tr>\n",
              "      <th>19</th>\n",
              "      <td>0.071333</td>\n",
              "      <td>(shrimp)</td>\n",
              "    </tr>\n",
              "    <tr>\n",
              "      <th>20</th>\n",
              "      <td>0.050533</td>\n",
              "      <td>(soup)</td>\n",
              "    </tr>\n",
              "    <tr>\n",
              "      <th>21</th>\n",
              "      <td>0.174133</td>\n",
              "      <td>(spaghetti)</td>\n",
              "    </tr>\n",
              "    <tr>\n",
              "      <th>22</th>\n",
              "      <td>0.068400</td>\n",
              "      <td>(tomatoes)</td>\n",
              "    </tr>\n",
              "    <tr>\n",
              "      <th>23</th>\n",
              "      <td>0.062533</td>\n",
              "      <td>(turkey)</td>\n",
              "    </tr>\n",
              "    <tr>\n",
              "      <th>24</th>\n",
              "      <td>0.058533</td>\n",
              "      <td>(whole wheat rice)</td>\n",
              "    </tr>\n",
              "    <tr>\n",
              "      <th>25</th>\n",
              "      <td>0.052667</td>\n",
              "      <td>(chocolate, mineral water)</td>\n",
              "    </tr>\n",
              "    <tr>\n",
              "      <th>26</th>\n",
              "      <td>0.050933</td>\n",
              "      <td>(mineral water, eggs)</td>\n",
              "    </tr>\n",
              "    <tr>\n",
              "      <th>27</th>\n",
              "      <td>0.059733</td>\n",
              "      <td>(mineral water, spaghetti)</td>\n",
              "    </tr>\n",
              "  </tbody>\n",
              "</table>\n",
              "</div>"
            ],
            "text/plain": [
              "     support                    itemsets\n",
              "0   0.087200                   (burgers)\n",
              "1   0.081067                      (cake)\n",
              "2   0.060000                   (chicken)\n",
              "3   0.163867                 (chocolate)\n",
              "4   0.080400                   (cookies)\n",
              "5   0.051067               (cooking oil)\n",
              "6   0.179733                      (eggs)\n",
              "7   0.079333                  (escalope)\n",
              "8   0.170933              (french fries)\n",
              "9   0.063200           (frozen smoothie)\n",
              "10  0.095333         (frozen vegetables)\n",
              "11  0.052400             (grated cheese)\n",
              "12  0.132000                 (green tea)\n",
              "13  0.098267               (ground beef)\n",
              "14  0.076400            (low fat yogurt)\n",
              "15  0.129600                      (milk)\n",
              "16  0.238267             (mineral water)\n",
              "17  0.065733                 (olive oil)\n",
              "18  0.095067                  (pancakes)\n",
              "19  0.071333                    (shrimp)\n",
              "20  0.050533                      (soup)\n",
              "21  0.174133                 (spaghetti)\n",
              "22  0.068400                  (tomatoes)\n",
              "23  0.062533                    (turkey)\n",
              "24  0.058533          (whole wheat rice)\n",
              "25  0.052667  (chocolate, mineral water)\n",
              "26  0.050933       (mineral water, eggs)\n",
              "27  0.059733  (mineral water, spaghetti)"
            ]
          },
          "metadata": {
            "tags": []
          },
          "execution_count": 64
        }
      ]
    },
    {
      "cell_type": "markdown",
      "metadata": {
        "id": "57ePW8RUFJAX"
      },
      "source": [
        "2- generate the associatin rules in these frequent itemsets with lift metric with treshold grater then one and see: "
      ]
    },
    {
      "cell_type": "code",
      "metadata": {
        "id": "3hTuu_UCFIwz"
      },
      "source": [
        "rules_ = association_rules(freq_items1,\n",
        "                           metric=\"lift\",\n",
        "                           min_threshold= 1.3)"
      ],
      "execution_count": 66,
      "outputs": []
    },
    {
      "cell_type": "code",
      "metadata": {
        "colab": {
          "base_uri": "https://localhost:8080/",
          "height": 171
        },
        "id": "Cc5xmRggFnPs",
        "outputId": "be1bb948-2e30-4785-8165-9488c58d257e"
      },
      "source": [
        "# display the rules\n",
        "rules_"
      ],
      "execution_count": 67,
      "outputs": [
        {
          "output_type": "execute_result",
          "data": {
            "text/html": [
              "<div>\n",
              "<style scoped>\n",
              "    .dataframe tbody tr th:only-of-type {\n",
              "        vertical-align: middle;\n",
              "    }\n",
              "\n",
              "    .dataframe tbody tr th {\n",
              "        vertical-align: top;\n",
              "    }\n",
              "\n",
              "    .dataframe thead th {\n",
              "        text-align: right;\n",
              "    }\n",
              "</style>\n",
              "<table border=\"1\" class=\"dataframe\">\n",
              "  <thead>\n",
              "    <tr style=\"text-align: right;\">\n",
              "      <th></th>\n",
              "      <th>antecedents</th>\n",
              "      <th>consequents</th>\n",
              "      <th>antecedent support</th>\n",
              "      <th>consequent support</th>\n",
              "      <th>support</th>\n",
              "      <th>confidence</th>\n",
              "      <th>lift</th>\n",
              "      <th>leverage</th>\n",
              "      <th>conviction</th>\n",
              "    </tr>\n",
              "  </thead>\n",
              "  <tbody>\n",
              "    <tr>\n",
              "      <th>0</th>\n",
              "      <td>(chocolate)</td>\n",
              "      <td>(mineral water)</td>\n",
              "      <td>0.163867</td>\n",
              "      <td>0.238267</td>\n",
              "      <td>0.052667</td>\n",
              "      <td>0.321400</td>\n",
              "      <td>1.348907</td>\n",
              "      <td>0.013623</td>\n",
              "      <td>1.122506</td>\n",
              "    </tr>\n",
              "    <tr>\n",
              "      <th>1</th>\n",
              "      <td>(mineral water)</td>\n",
              "      <td>(chocolate)</td>\n",
              "      <td>0.238267</td>\n",
              "      <td>0.163867</td>\n",
              "      <td>0.052667</td>\n",
              "      <td>0.221041</td>\n",
              "      <td>1.348907</td>\n",
              "      <td>0.013623</td>\n",
              "      <td>1.073398</td>\n",
              "    </tr>\n",
              "    <tr>\n",
              "      <th>2</th>\n",
              "      <td>(mineral water)</td>\n",
              "      <td>(spaghetti)</td>\n",
              "      <td>0.238267</td>\n",
              "      <td>0.174133</td>\n",
              "      <td>0.059733</td>\n",
              "      <td>0.250699</td>\n",
              "      <td>1.439698</td>\n",
              "      <td>0.018243</td>\n",
              "      <td>1.102184</td>\n",
              "    </tr>\n",
              "    <tr>\n",
              "      <th>3</th>\n",
              "      <td>(spaghetti)</td>\n",
              "      <td>(mineral water)</td>\n",
              "      <td>0.174133</td>\n",
              "      <td>0.238267</td>\n",
              "      <td>0.059733</td>\n",
              "      <td>0.343032</td>\n",
              "      <td>1.439698</td>\n",
              "      <td>0.018243</td>\n",
              "      <td>1.159468</td>\n",
              "    </tr>\n",
              "  </tbody>\n",
              "</table>\n",
              "</div>"
            ],
            "text/plain": [
              "       antecedents      consequents  ...  leverage  conviction\n",
              "0      (chocolate)  (mineral water)  ...  0.013623    1.122506\n",
              "1  (mineral water)      (chocolate)  ...  0.013623    1.073398\n",
              "2  (mineral water)      (spaghetti)  ...  0.018243    1.102184\n",
              "3      (spaghetti)  (mineral water)  ...  0.018243    1.159468\n",
              "\n",
              "[4 rows x 9 columns]"
            ]
          },
          "metadata": {
            "tags": []
          },
          "execution_count": 67
        }
      ]
    },
    {
      "cell_type": "markdown",
      "metadata": {
        "id": "KzGY1ZPYHKq1"
      },
      "source": [
        "* here we have 4 rules generated:\n",
        "    - 32% of oprations containing (chocolate) -> (mineral water)\n",
        "    - 22% of operations containing (mineral water) -> (chocolate)\n",
        "    - 25% of operations containing (mineral water) -> (spaghetti)\n",
        "    - 34% of operations containing (spaghetti) -> (mineral water)\n"
      ]
    },
    {
      "cell_type": "markdown",
      "metadata": {
        "id": "8WGxCfVIMBAp"
      },
      "source": [
        "* spaghetti and mineral water is more likely then chocolate and mineral water, it makes sense.\n"
      ]
    }
  ]
}